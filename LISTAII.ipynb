{
  "nbformat": 4,
  "nbformat_minor": 0,
  "metadata": {
    "kernelspec": {
      "name": "python36",
      "display_name": "Python 3.6",
      "language": "python"
    },
    "language_info": {
      "mimetype": "text/x-python",
      "nbconvert_exporter": "python",
      "name": "python",
      "pygments_lexer": "ipython3",
      "version": "3.6.6",
      "file_extension": ".py",
      "codemirror_mode": {
        "version": 3,
        "name": "ipython"
      }
    },
    "colab": {
      "name": "LISTAII.ipynb",
      "provenance": [],
      "include_colab_link": true
    }
  },
  "cells": [
    {
      "cell_type": "markdown",
      "metadata": {
        "id": "view-in-github",
        "colab_type": "text"
      },
      "source": [
        "<a href=\"https://colab.research.google.com/github/lbarbozano/Listas_senai/blob/main/LISTAII.ipynb\" target=\"_parent\"><img src=\"https://colab.research.google.com/assets/colab-badge.svg\" alt=\"Open In Colab\"/></a>"
      ]
    },
    {
      "cell_type": "markdown",
      "metadata": {
        "id": "mJfT6kZnX0IV"
      },
      "source": [
        "\n",
        "Implemente um programa em python para cadastrar o nome do operador, uma senha e peça o login. Em seguida, criar um banco de dados chamado controle.db, que deve armazenar leituras de um sensor que mede altura de uma peça. As peças possuem três tamanhos, conforme descrição abaixo:\n",
        "Pequena: de 25 cm a 40cm\n",
        "\n",
        "Media: de 41 cm a 50cm\n",
        "\n",
        "Grande: de 51 cm a 70 cm\n",
        "\n",
        "Peças fora dessas medidas são descartáveis\n",
        "\n",
        "O banco de dados deve armazenar informações de 30 peças, conforme tabela abaixo:\n",
        "Id (primary key)\n",
        "\n",
        "Horário\n",
        "\n",
        "Tamanho\n",
        "\n",
        "Operador\n",
        "\n",
        "Depois de armazenar os dados, o programa em python deve mostrar ao operador a relação de peças pequenas, médias, grandes e descartáveis, baseada na tabela já salva. Utilize a função randômica para simular os valores das leituras dos sensores.\n",
        "Em seguida, é necessário apresentar os valores de soma e média através de gráficos linhas, colunas e pizza para cada tamanho cadastrado. Os doze gráficos devem ser salvos como imagem."
      ]
    },
    {
      "cell_type": "code",
      "metadata": {
        "id": "IdvPXW5rXuec",
        "outputId": "0d22dc2c-b91e-4c56-a16d-142c8e636490",
        "colab": {
          "base_uri": "https://localhost:8080/",
          "height": 119
        }
      },
      "source": [
        "import sqlite3\n",
        "import numpy as np\n",
        "import random\n",
        "import matplotlib.pyplot as plt\n",
        "import time\n",
        "import os\n",
        "import datetime\n",
        "\n",
        "nome = input(\"Digite seu nome: \")\n",
        "login = input(\"Login: \")\n",
        "senha = input(\"Senha: \")\n",
        "\n",
        "while login == senha:\n",
        "    print(\"Sua senha deve ser diferente do login: \")\n",
        "    senha = input(\"Senha: \")\n",
        "\n",
        "print(\"Cadastro aprovado \")"
      ],
      "execution_count": 1,
      "outputs": [
        {
          "output_type": "stream",
          "text": [
            "Digite seu nome: leandro\n",
            "Login: lbarbozano\n",
            "Senha: lbarbozano\n",
            "Sua senha deve ser diferente do login: \n",
            "Senha: leandro\n",
            "Cadastro aprovado \n"
          ],
          "name": "stdout"
        }
      ]
    },
    {
      "cell_type": "code",
      "metadata": {
        "trusted": true,
        "id": "M6m3zv4BXbZy",
        "outputId": "11dc566b-c86b-4110-b180-5a78b463004f",
        "colab": {
          "base_uri": "https://localhost:8080/",
          "height": 136
        }
      },
      "source": [
        "while(login == input(\"Digite o login cadastrado: \") and senha == input(\"Digite a senha cadastrado: \")):\n",
        "   \n",
        "    print(\"Seja muito bem vindo!!!! \")\n",
        "   \n",
        "    BD = sqlite3.connect(\"controle.db\")\n",
        "    cursor = BD.cursor()   \n",
        "    \n",
        "    cursor.execute('''create table if not exists leituras(\n",
        "                ID integer primary key autoincrement,\n",
        "                Horario integer (100),\n",
        "                Tamanho varchar (100),\n",
        "                Operador varchar (100))''')\n",
        "    \n",
        "    pecas = [] \n",
        "    \n",
        "    leandro_pequeno = []\n",
        "    pequeno = [] \n",
        "    \n",
        "    leandro_medio = []\n",
        "    medio = []\n",
        "   \n",
        "    leandro_grande = []\n",
        "    grande = []\n",
        "   \n",
        "    leandro_descartado = []\n",
        "    descartado = []   \n",
        "    \n",
        "    for x in range (30):\n",
        "        relogio = datetime.datetime.now()             \n",
        "        pecas.append(random.randrange(100))        \n",
        "   \n",
        "    for l in pecas:  \n",
        "        if l >= 25 and l <= 40:\n",
        "            pecas = 'Pequeno'\n",
        "            leandro_pequeno.append(pecas)\n",
        "            pequeno.append(l)\n",
        "           \n",
        "        elif l >= 41 and l <= 50:\n",
        "            pecas  = 'Medio'\n",
        "            leandro_medio.append(pecas)\n",
        "            medio.append(l)\n",
        "           \n",
        "        elif l >= 51 and l <= 70:\n",
        "            pecas = 'Grande'\n",
        "            leandro_grande.append(pecas)\n",
        "            grande.append(l)\n",
        "           \n",
        "        else:\n",
        "            pecas = 'Descartando'\n",
        "            leandro_descartado.append(pecas)\n",
        "            descartado.append(l)\n",
        "       \n",
        "      \n",
        "    cursor.execute(\"\"\" INSERT INTO leituras (Horario, Tamanho, Operador) VALUES (?, ?, ?) \"\"\", (relogio, pecas, login))\n",
        "    \n",
        "    BD.commit()\n",
        "    \n",
        "    \n",
        "       \n",
        "    print(pequeno)\n",
        "    print(medio)\n",
        "    print(grande)\n",
        "    print(descartado)      \n",
        "    \n",
        "    break"
      ],
      "execution_count": 40,
      "outputs": [
        {
          "output_type": "stream",
          "text": [
            "Digite o login cadastrado: lbarbozano\n",
            "Digite a senha cadastrado: leandro\n",
            "Seja muito bem vindo!!!! \n",
            "[33, 32, 29]\n",
            "[46, 42, 41, 49]\n",
            "[52, 58, 52, 67, 62, 61, 68, 62]\n",
            "[2, 4, 92, 95, 99, 94, 81, 91, 73, 96, 18, 87, 79, 76, 80]\n"
          ],
          "name": "stdout"
        }
      ]
    },
    {
      "cell_type": "code",
      "metadata": {
        "trusted": true,
        "id": "onkstdQFXbaC",
        "outputId": "b4b973dd-41ee-48b0-f816-82a7c2fd0a00",
        "colab": {
          "base_uri": "https://localhost:8080/",
          "height": 350
        }
      },
      "source": [
        "print(pequeno)\n",
        "pequeno_array = np.array(pequeno)\n",
        "ids = [l for l in range(len(pequeno_array))]\n",
        "print(pequeno_array.sum())\n",
        "print(pequeno_array.mean())\n",
        "print(pequeno_array.min())\n",
        "print(pequeno_array.max())\n",
        "plt.plot(ids,pequeno_array)\n",
        "plt.savefig('plot.png' , dpi=100, bbox_inches='tight')\n",
        "plt.show()"
      ],
      "execution_count": 41,
      "outputs": [
        {
          "output_type": "stream",
          "text": [
            "[33, 32, 29]\n",
            "94\n",
            "31.333333333333332\n",
            "29\n",
            "33\n"
          ],
          "name": "stdout"
        },
        {
          "output_type": "display_data",
          "data": {
            "image/png": "[encoded data removed]",
            "text/plain": [
              "<Figure size 432x288 with 1 Axes>"
            ]
          },
          "metadata": {
            "tags": [],
            "needs_background": "light"
          }
        }
      ]
    },
    {
      "cell_type": "code",
      "metadata": {
        "trusted": true,
        "id": "xWBgaSMGXbaT",
        "outputId": "245fb780-cc16-455f-df96-4365c2e3fedd",
        "colab": {
          "base_uri": "https://localhost:8080/",
          "height": 313
        }
      },
      "source": [
        "print(\"soma: \", pequeno_array.sum())\n",
        "print(\"media: \", pequeno_array.mean())\n",
        "plt.xlabel('soma')\n",
        "plt.ylabel('media')\n",
        "x = [0,pequeno_array.sum()]\n",
        "y = [0,pequeno_array.mean()]\n",
        "plt.plot(x,y, label = 'linha de soma e media')\n",
        "plt.legend()\n",
        "plt.savefig('plot.png' , dpi=100, bbox_inches='tight')\n",
        "plt.show()"
      ],
      "execution_count": 42,
      "outputs": [
        {
          "output_type": "stream",
          "text": [
            "soma:  94\n",
            "media:  31.333333333333332\n"
          ],
          "name": "stdout"
        },
        {
          "output_type": "display_data",
          "data": {
            "image/png": "[encoded data removed]",
            "text/plain": [
              "<Figure size 432x288 with 1 Axes>"
            ]
          },
          "metadata": {
            "tags": [],
            "needs_background": "light"
          }
        }
      ]
    },
    {
      "cell_type": "code",
      "metadata": {
        "trusted": true,
        "id": "K5G6SEVgXbag",
        "outputId": "1516d0eb-2961-4a90-a773-3d3b4cb1b24f",
        "colab": {
          "base_uri": "https://localhost:8080/",
          "height": 350
        }
      },
      "source": [
        "print(medio)\n",
        "medio_array = np.array(medio)\n",
        "ids = [l for l in range(len(medio_array))]\n",
        "print(medio_array.sum())\n",
        "print(medio_array.mean())\n",
        "print(medio_array.min())\n",
        "print(medio_array.max())\n",
        "plt.plot(ids,medio_array)\n",
        "plt.savefig('plot.png' , dpi=100, bbox_inches='tight')\n",
        "plt.show()"
      ],
      "execution_count": 43,
      "outputs": [
        {
          "output_type": "stream",
          "text": [
            "[46, 42, 41, 49]\n",
            "178\n",
            "44.5\n",
            "41\n",
            "49\n"
          ],
          "name": "stdout"
        },
        {
          "output_type": "display_data",
          "data": {
            "image/png": "[encoded data removed]",
            "text/plain": [
              "<Figure size 432x288 with 1 Axes>"
            ]
          },
          "metadata": {
            "tags": [],
            "needs_background": "light"
          }
        }
      ]
    },
    {
      "cell_type": "code",
      "metadata": {
        "trusted": true,
        "id": "WOb96Ua6Xbaq",
        "outputId": "3311de25-7b94-41dd-ca66-0904c76de539",
        "colab": {
          "base_uri": "https://localhost:8080/",
          "height": 313
        }
      },
      "source": [
        "print(\"soma: \", medio_array.sum())\n",
        "print(\"media: \", medio_array.mean())\n",
        "plt.xlabel('soma')\n",
        "plt.ylabel('media')\n",
        "x = [0,medio_array.sum()]\n",
        "y = [0,medio_array.mean()]\n",
        "plt.plot(x,y, label = 'linha de soma e media')\n",
        "plt.legend()\n",
        "plt.savefig('plot.png' , dpi=100, bbox_inches='tight')\n",
        "plt.show()"
      ],
      "execution_count": 44,
      "outputs": [
        {
          "output_type": "stream",
          "text": [
            "soma:  178\n",
            "media:  44.5\n"
          ],
          "name": "stdout"
        },
        {
          "output_type": "display_data",
          "data": {
            "image/png": "[encoded data removed]",
            "text/plain": [
              "<Figure size 432x288 with 1 Axes>"
            ]
          },
          "metadata": {
            "tags": [],
            "needs_background": "light"
          }
        }
      ]
    },
    {
      "cell_type": "code",
      "metadata": {
        "trusted": true,
        "id": "gfWneb-QXba9",
        "outputId": "9d42a8a3-a893-4a1f-99ea-1b0a22c988cd",
        "colab": {
          "base_uri": "https://localhost:8080/",
          "height": 350
        }
      },
      "source": [
        "print(grande)\n",
        "grande_array = np.array(grande)\n",
        "ids = [l for l in range(len(grande_array))]\n",
        "print(grande_array.sum())\n",
        "print(grande_array.mean())\n",
        "print(grande_array.min())\n",
        "print(grande_array.max())\n",
        "plt.plot(ids,grande_array)\n",
        "plt.savefig('plot.png' , dpi=100, bbox_inches='tight')\n",
        "plt.show()"
      ],
      "execution_count": 45,
      "outputs": [
        {
          "output_type": "stream",
          "text": [
            "[52, 58, 52, 67, 62, 61, 68, 62]\n",
            "482\n",
            "60.25\n",
            "52\n",
            "68\n"
          ],
          "name": "stdout"
        },
        {
          "output_type": "display_data",
          "data": {
            "image/png": "[encoded data removed]",
            "text/plain": [
              "<Figure size 432x288 with 1 Axes>"
            ]
          },
          "metadata": {
            "tags": [],
            "needs_background": "light"
          }
        }
      ]
    },
    {
      "cell_type": "code",
      "metadata": {
        "trusted": true,
        "id": "SdJMdinkXbbJ",
        "outputId": "70511ceb-cbcc-4121-c48a-0ca9c02acbcc",
        "colab": {
          "base_uri": "https://localhost:8080/",
          "height": 313
        }
      },
      "source": [
        "print(\"soma: \", grande_array.sum())\n",
        "print(\"media: \", grande_array.mean())\n",
        "plt.xlabel('soma')\n",
        "plt.ylabel('media')\n",
        "x = [0,grande_array.sum()]\n",
        "y = [0,grande_array.mean()]\n",
        "plt.plot(x,y, label = 'linha de soma e media')\n",
        "plt.legend()\n",
        "plt.savefig('plot.png' , dpi=100, bbox_inches='tight')\n",
        "plt.show()"
      ],
      "execution_count": 46,
      "outputs": [
        {
          "output_type": "stream",
          "text": [
            "soma:  482\n",
            "media:  60.25\n"
          ],
          "name": "stdout"
        },
        {
          "output_type": "display_data",
          "data": {
            "image/png": "[encoded data removed]",
            "text/plain": [
              "<Figure size 432x288 with 1 Axes>"
            ]
          },
          "metadata": {
            "tags": [],
            "needs_background": "light"
          }
        }
      ]
    },
    {
      "cell_type": "code",
      "metadata": {
        "trusted": true,
        "id": "ACSs7OfYXbbT",
        "outputId": "cb642716-23c3-4f1b-bd9e-ce3a8387eb0a",
        "colab": {
          "base_uri": "https://localhost:8080/",
          "height": 350
        }
      },
      "source": [
        "print(descartado)\n",
        "descartado_array = np.array(descartado)\n",
        "ids = [l for l in range(len(descartado_array))]\n",
        "print(descartado_array.sum())\n",
        "print(descartado_array.mean())\n",
        "print(descartado_array.min())\n",
        "print(descartado_array.max())\n",
        "plt.plot(ids,descartado_array)\n",
        "plt.savefig('plot.png' , dpi=100, bbox_inches='tight')\n",
        "plt.show()"
      ],
      "execution_count": 47,
      "outputs": [
        {
          "output_type": "stream",
          "text": [
            "[2, 4, 92, 95, 99, 94, 81, 91, 73, 96, 18, 87, 79, 76, 80]\n",
            "1067\n",
            "71.13333333333334\n",
            "2\n",
            "99\n"
          ],
          "name": "stdout"
        },
        {
          "output_type": "display_data",
          "data": {
            "image/png": "[encoded data removed]",
            "text/plain": [
              "<Figure size 432x288 with 1 Axes>"
            ]
          },
          "metadata": {
            "tags": [],
            "needs_background": "light"
          }
        }
      ]
    },
    {
      "cell_type": "code",
      "metadata": {
        "trusted": true,
        "id": "W0dKWlCaXbbi",
        "outputId": "84f1b619-f2b0-4ca8-b1dd-f6733d5e1582",
        "colab": {
          "base_uri": "https://localhost:8080/",
          "height": 313
        }
      },
      "source": [
        "print(\"soma: \", descartado_array.sum())\n",
        "print(\"media: \", descartado_array.mean())\n",
        "plt.xlabel('soma')\n",
        "plt.ylabel('media')\n",
        "x = [0,descartado_array.sum()]\n",
        "y = [0,descartado_array.mean()]\n",
        "plt.plot(x,y, label = 'linha de soma e media')\n",
        "plt.legend()\n",
        "plt.savefig('plot.png' , dpi=100, bbox_inches='tight')\n",
        "plt.show()"
      ],
      "execution_count": 48,
      "outputs": [
        {
          "output_type": "stream",
          "text": [
            "soma:  1067\n",
            "media:  71.13333333333334\n"
          ],
          "name": "stdout"
        },
        {
          "output_type": "display_data",
          "data": {
            "image/png": "[encoded data removed]",
            "text/plain": [
              "<Figure size 432x288 with 1 Axes>"
            ]
          },
          "metadata": {
            "tags": [],
            "needs_background": "light"
          }
        }
      ]
    },
    {
      "cell_type": "code",
      "metadata": {
        "trusted": true,
        "id": "_JuswtP7Xbbs",
        "outputId": "dd266363-0251-4cb8-ad9c-8a784ad54b9b",
        "colab": {
          "base_uri": "https://localhost:8080/",
          "height": 350
        }
      },
      "source": [
        "print(pequeno)\n",
        "pequeno_array = np.array(pequeno)\n",
        "ids = [l for l in range(len(pequeno_array))]\n",
        "print(pequeno_array.sum())\n",
        "print(pequeno_array.mean())\n",
        "print(pequeno_array.min())\n",
        "print(pequeno_array.max())\n",
        "plt.bar(ids,pequeno_array, label = 'barras1', color = 'red')\n",
        "plt.savefig('plot.png' , dpi=100, bbox_inches='tight')\n",
        "plt.show()"
      ],
      "execution_count": 49,
      "outputs": [
        {
          "output_type": "stream",
          "text": [
            "[33, 32, 29]\n",
            "94\n",
            "31.333333333333332\n",
            "29\n",
            "33\n"
          ],
          "name": "stdout"
        },
        {
          "output_type": "display_data",
          "data": {
            "image/png": "[encoded data removed]",
            "text/plain": [
              "<Figure size 432x288 with 1 Axes>"
            ]
          },
          "metadata": {
            "tags": [],
            "needs_background": "light"
          }
        }
      ]
    },
    {
      "cell_type": "code",
      "metadata": {
        "trusted": true,
        "id": "ppWUY0vAXbb2",
        "outputId": "bca571f3-c124-4f85-ac7d-f5d41adb8d93",
        "colab": {
          "base_uri": "https://localhost:8080/",
          "height": 350
        }
      },
      "source": [
        "print(pequeno)\n",
        "pequeno_array.mean()\n",
        "pequeno_array.sum()\n",
        "pequeno_array.min()\n",
        "pequeno_array.max()\n",
        "print(pequeno_array.mean)\n",
        "print(pequeno_array.sum)\n",
        "print(pequeno_array.min)\n",
        "print(pequeno_array.max)\n",
        "x = pequeno_array.mean()\n",
        "y = pequeno_array.mean()\n",
        "l = pequeno_array.sum()\n",
        "r = pequeno_array.sum()\n",
        "m = pequeno_array.min()\n",
        "n = pequeno_array.min()\n",
        "a = pequeno_array.max()\n",
        "b = pequeno_array.max()\n",
        "plt.bar(x,y, label= 'barras1', color = 'black')\n",
        "plt.bar(l,r, label= 'barras2', color = 'blue')\n",
        "plt.bar(m,n, label= 'barras3', color = 'red')\n",
        "plt.bar(a,b, label= 'barras4', color = 'yellow')\n",
        "plt.savefig('plot.png', dpi =100, bbox_inches='tight')\n",
        "plt.show()"
      ],
      "execution_count": 50,
      "outputs": [
        {
          "output_type": "stream",
          "text": [
            "[33, 32, 29]\n",
            "<built-in method mean of numpy.ndarray object at 0x7f244c0a6ee0>\n",
            "<built-in method sum of numpy.ndarray object at 0x7f244c0a6ee0>\n",
            "<built-in method min of numpy.ndarray object at 0x7f244c0a6ee0>\n",
            "<built-in method max of numpy.ndarray object at 0x7f244c0a6ee0>\n"
          ],
          "name": "stdout"
        },
        {
          "output_type": "display_data",
          "data": {
            "image/png": "[encoded data removed]",
            "text/plain": [
              "<Figure size 432x288 with 1 Axes>"
            ]
          },
          "metadata": {
            "tags": [],
            "needs_background": "light"
          }
        }
      ]
    },
    {
      "cell_type": "code",
      "metadata": {
        "trusted": true,
        "id": "0X7JwwhVXbcE",
        "outputId": "ae36b90f-f808-4b36-a898-540da6ba04ab",
        "colab": {
          "base_uri": "https://localhost:8080/",
          "height": 350
        }
      },
      "source": [
        "print(medio)\n",
        "medio_array = np.array(medio)\n",
        "ids = [l for l in range(len(medio_array))]\n",
        "print(medio_array.sum())\n",
        "print(medio_array.mean())\n",
        "print(medio_array.min())\n",
        "print(medio_array.max())\n",
        "plt.bar(ids,medio_array, label = 'barras2', color = 'green')\n",
        "plt.savefig('plot.png' , dpi=100, bbox_inches='tight')\n",
        "plt.show()"
      ],
      "execution_count": 51,
      "outputs": [
        {
          "output_type": "stream",
          "text": [
            "[46, 42, 41, 49]\n",
            "178\n",
            "44.5\n",
            "41\n",
            "49\n"
          ],
          "name": "stdout"
        },
        {
          "output_type": "display_data",
          "data": {
            "image/png": "[encoded data removed]",
            "text/plain": [
              "<Figure size 432x288 with 1 Axes>"
            ]
          },
          "metadata": {
            "tags": [],
            "needs_background": "light"
          }
        }
      ]
    },
    {
      "cell_type": "code",
      "metadata": {
        "trusted": true,
        "id": "ouYRxZ-qXbcR",
        "outputId": "f6f252c3-d4eb-4569-de1a-6756dc1c80f2",
        "colab": {
          "base_uri": "https://localhost:8080/",
          "height": 350
        }
      },
      "source": [
        "print(medio)\n",
        "medio_array.mean()\n",
        "medio_array.sum()\n",
        "medio_array.min()\n",
        "medio_array.max()\n",
        "print(medio_array.mean)\n",
        "print(medio_array.sum)\n",
        "print(medio_array.min)\n",
        "print(medio_array.max)\n",
        "x = medio_array.mean()\n",
        "y = medio_array.mean()\n",
        "l = medio_array.sum()\n",
        "r = medio_array.sum()\n",
        "m = medio_array.min()\n",
        "n = medio_array.min()\n",
        "a = medio_array.max()\n",
        "b = medio_array.max()\n",
        "plt.bar(x,y, label= 'barras1', color = 'black')\n",
        "plt.bar(l,r, label= 'barras2', color = 'blue')\n",
        "plt.bar(m,n, label= 'barras3', color = 'red')\n",
        "plt.bar(a,b, label= 'barras4', color = 'yellow')\n",
        "plt.savefig('plot.png', dpi =100, bbox_inches='tight')\n",
        "plt.show()"
      ],
      "execution_count": 52,
      "outputs": [
        {
          "output_type": "stream",
          "text": [
            "[46, 42, 41, 49]\n",
            "<built-in method mean of numpy.ndarray object at 0x7f244beedd00>\n",
            "<built-in method sum of numpy.ndarray object at 0x7f244beedd00>\n",
            "<built-in method min of numpy.ndarray object at 0x7f244beedd00>\n",
            "<built-in method max of numpy.ndarray object at 0x7f244beedd00>\n"
          ],
          "name": "stdout"
        },
        {
          "output_type": "display_data",
          "data": {
            "image/png": "[encoded data removed]",
            "text/plain": [
              "<Figure size 432x288 with 1 Axes>"
            ]
          },
          "metadata": {
            "tags": [],
            "needs_background": "light"
          }
        }
      ]
    },
    {
      "cell_type": "code",
      "metadata": {
        "trusted": true,
        "id": "7KdwcH62Xbcc",
        "outputId": "66f49a69-c080-4fef-e323-448224be42ee",
        "colab": {
          "base_uri": "https://localhost:8080/",
          "height": 350
        }
      },
      "source": [
        "print(grande)\n",
        "grande_array = np.array(grande)\n",
        "ids = [l for l in range(len(grande_array))]\n",
        "print(grande_array.sum())\n",
        "print(grande_array.mean())\n",
        "print(grande_array.min())\n",
        "print(grande_array.max())\n",
        "plt.bar(ids,grande_array, label = 'barras3', color = 'yellow')\n",
        "plt.savefig('plot.png' , dpi=100, bbox_inches='tight')\n",
        "plt.show()"
      ],
      "execution_count": 53,
      "outputs": [
        {
          "output_type": "stream",
          "text": [
            "[52, 58, 52, 67, 62, 61, 68, 62]\n",
            "482\n",
            "60.25\n",
            "52\n",
            "68\n"
          ],
          "name": "stdout"
        },
        {
          "output_type": "display_data",
          "data": {
            "image/png": "[encoded data removed]",
            "text/plain": [
              "<Figure size 432x288 with 1 Axes>"
            ]
          },
          "metadata": {
            "tags": [],
            "needs_background": "light"
          }
        }
      ]
    },
    {
      "cell_type": "code",
      "metadata": {
        "trusted": true,
        "id": "SsPMPULFXbcl",
        "outputId": "4d300d5e-a140-4ad0-ee92-fcbed7386c7f",
        "colab": {
          "base_uri": "https://localhost:8080/",
          "height": 352
        }
      },
      "source": [
        "print(grande)\n",
        "grande_array.mean()\n",
        "grande_array.sum()\n",
        "grande_array.min()\n",
        "grande_array.max()\n",
        "print(grande_array.mean)\n",
        "print(grande_array.sum)\n",
        "print(grande_array.min)\n",
        "print(grande_array.max)\n",
        "x = grande_array.mean()\n",
        "y = grande_array.mean()\n",
        "l = grande_array.sum()\n",
        "r = grande_array.sum()\n",
        "m = grande_array.min()\n",
        "n = grande_array.min()\n",
        "a = grande_array.max()\n",
        "b = grande_array.max()\n",
        "plt.bar(x,y, label= 'barras1', color = 'black')\n",
        "plt.bar(l,r, label= 'barras2', color = 'blue')\n",
        "plt.bar(m,n, label= 'barras3', color = 'red')\n",
        "plt.bar(a,b, label= 'barras4', color = 'yellow')\n",
        "plt.savefig('plot.png', dpi =100, bbox_inches='tight')\n",
        "plt.show()"
      ],
      "execution_count": 54,
      "outputs": [
        {
          "output_type": "stream",
          "text": [
            "[52, 58, 52, 67, 62, 61, 68, 62]\n",
            "<built-in method mean of numpy.ndarray object at 0x7f244beed9e0>\n",
            "<built-in method sum of numpy.ndarray object at 0x7f244beed9e0>\n",
            "<built-in method min of numpy.ndarray object at 0x7f244beed9e0>\n",
            "<built-in method max of numpy.ndarray object at 0x7f244beed9e0>\n"
          ],
          "name": "stdout"
        },
        {
          "output_type": "display_data",
          "data": {
            "image/png": "[encoded data removed]",
            "text/plain": [
              "<Figure size 432x288 with 1 Axes>"
            ]
          },
          "metadata": {
            "tags": [],
            "needs_background": "light"
          }
        }
      ]
    },
    {
      "cell_type": "code",
      "metadata": {
        "trusted": true,
        "id": "5Ld1u6tRXbct",
        "outputId": "b6955309-1400-4e98-b8a4-fb165975240b",
        "colab": {
          "base_uri": "https://localhost:8080/",
          "height": 350
        }
      },
      "source": [
        "print(descartado)\n",
        "descartado_array = np.array(descartado)\n",
        "ids = [l for l in range(len(descartado_array))]\n",
        "print(descartado_array.sum())\n",
        "print(descartado_array.mean())\n",
        "print(descartado_array.min())\n",
        "print(descartado_array.max())\n",
        "plt.bar(ids,descartado_array, label = 'barras4', color = 'blue')\n",
        "plt.savefig('plot.png' , dpi=100, bbox_inches='tight')\n",
        "plt.show()"
      ],
      "execution_count": 55,
      "outputs": [
        {
          "output_type": "stream",
          "text": [
            "[2, 4, 92, 95, 99, 94, 81, 91, 73, 96, 18, 87, 79, 76, 80]\n",
            "1067\n",
            "71.13333333333334\n",
            "2\n",
            "99\n"
          ],
          "name": "stdout"
        },
        {
          "output_type": "display_data",
          "data": {
            "image/png": "[encoded data removed]",
            "text/plain": [
              "<Figure size 432x288 with 1 Axes>"
            ]
          },
          "metadata": {
            "tags": [],
            "needs_background": "light"
          }
        }
      ]
    },
    {
      "cell_type": "code",
      "metadata": {
        "trusted": true,
        "id": "IQkK2jXDXbc2",
        "outputId": "6ca888ea-b87e-4628-baf6-e6ae1bd4cd07",
        "colab": {
          "base_uri": "https://localhost:8080/",
          "height": 350
        }
      },
      "source": [
        "print(descartado)\n",
        "descartado_array.mean()\n",
        "descartado_array.sum()\n",
        "descartado_array.min()\n",
        "descartado_array.max()\n",
        "print(descartado_array.mean)\n",
        "print(descartado_array.sum)\n",
        "print(descartado_array.min)\n",
        "print(descartado_array.max)\n",
        "x = descartado_array.mean()\n",
        "y = descartado_array.mean()\n",
        "l = descartado_array.sum()\n",
        "r = descartado_array.sum()\n",
        "m = descartado_array.min()\n",
        "n = descartado_array.min()\n",
        "a = descartado_array.max()\n",
        "b = descartado_array.max()\n",
        "plt.bar(x,y, label= 'barras1', color = 'black')\n",
        "plt.bar(l,r, label= 'barras2', color = 'blue')\n",
        "plt.bar(m,n, label= 'barras3', color = 'red')\n",
        "plt.bar(a,b, label= 'barras4', color = 'yellow')\n",
        "plt.savefig('plot.png', dpi =100, bbox_inches='tight')\n",
        "plt.show()"
      ],
      "execution_count": 56,
      "outputs": [
        {
          "output_type": "stream",
          "text": [
            "[2, 4, 92, 95, 99, 94, 81, 91, 73, 96, 18, 87, 79, 76, 80]\n",
            "<built-in method mean of numpy.ndarray object at 0x7f244bde9800>\n",
            "<built-in method sum of numpy.ndarray object at 0x7f244bde9800>\n",
            "<built-in method min of numpy.ndarray object at 0x7f244bde9800>\n",
            "<built-in method max of numpy.ndarray object at 0x7f244bde9800>\n"
          ],
          "name": "stdout"
        },
        {
          "output_type": "display_data",
          "data": {
            "image/png": "[encoded data removed]",
            "text/plain": [
              "<Figure size 432x288 with 1 Axes>"
            ]
          },
          "metadata": {
            "tags": [],
            "needs_background": "light"
          }
        }
      ]
    },
    {
      "cell_type": "code",
      "metadata": {
        "trusted": true,
        "id": "N99zAFmGXbdP",
        "outputId": "b9b29e13-6de8-4284-a5a8-f12f7219649d",
        "colab": {
          "base_uri": "https://localhost:8080/",
          "height": 350
        }
      },
      "source": [
        "print(pequeno)\n",
        "pequeno_array = np.array(pequeno)\n",
        "ids = [l for l in range(len(pequeno_array))]\n",
        "print(pequeno_array.sum())\n",
        "print(pequeno_array.mean())\n",
        "print(pequeno_array.min())\n",
        "print(pequeno_array.max())\n",
        "plt.scatter(ids,pequeno_array, label = 'pontos', color = 'red', marker = '*', s = 80)\n",
        "plt.legend()\n",
        "plt.savefig('plot.png' , dpi=100, bbox_inches='tight')\n",
        "plt.show()"
      ],
      "execution_count": 57,
      "outputs": [
        {
          "output_type": "stream",
          "text": [
            "[33, 32, 29]\n",
            "94\n",
            "31.333333333333332\n",
            "29\n",
            "33\n"
          ],
          "name": "stdout"
        },
        {
          "output_type": "display_data",
          "data": {
            "image/png": "[encoded data removed]",
            "text/plain": [
              "<Figure size 432x288 with 1 Axes>"
            ]
          },
          "metadata": {
            "tags": [],
            "needs_background": "light"
          }
        }
      ]
    },
    {
      "cell_type": "code",
      "metadata": {
        "trusted": true,
        "id": "c5xMW_aoXbda",
        "outputId": "fb206065-8d97-4194-8c25-9a53483a38a8",
        "colab": {
          "base_uri": "https://localhost:8080/",
          "height": 314
        }
      },
      "source": [
        "print(\"soma: \", pequeno_array.sum())\n",
        "print(\"media: \", pequeno_array.mean())\n",
        "plt.xlabel('soma')\n",
        "plt.ylabel('media')\n",
        "x = [pequeno_array.sum()]\n",
        "y = [pequeno_array.mean()]\n",
        "plt.scatter(x,y, label = 'pontos', color = 'red', marker = '*', s = 80)\n",
        "plt.legend()\n",
        "plt.savefig('plot.png' , dpi=100, bbox_inches='tight')\n",
        "plt.show()"
      ],
      "execution_count": 58,
      "outputs": [
        {
          "output_type": "stream",
          "text": [
            "soma:  94\n",
            "media:  31.333333333333332\n"
          ],
          "name": "stdout"
        },
        {
          "output_type": "display_data",
          "data": {
            "image/png": "[encoded data removed]",
            "text/plain": [
              "<Figure size 432x288 with 1 Axes>"
            ]
          },
          "metadata": {
            "tags": [],
            "needs_background": "light"
          }
        }
      ]
    },
    {
      "cell_type": "code",
      "metadata": {
        "trusted": true,
        "id": "ctiwsMFlXbdi",
        "outputId": "73175b3a-e65a-4fac-c575-d267fbbe8a01",
        "colab": {
          "base_uri": "https://localhost:8080/",
          "height": 350
        }
      },
      "source": [
        "print(medio)\n",
        "medio_array = np.array(medio)\n",
        "ids = [l for l in range(len(medio_array))]\n",
        "print(medio_array.sum())\n",
        "print(medio_array.mean())\n",
        "print(medio_array.min())\n",
        "print(medio_array.max())\n",
        "plt.scatter(ids,medio_array, label = 'pontos', color = 'blue', marker = '*', s = 80)\n",
        "plt.legend()\n",
        "plt.savefig('plot.png' , dpi=100, bbox_inches='tight')\n",
        "plt.show()"
      ],
      "execution_count": 62,
      "outputs": [
        {
          "output_type": "stream",
          "text": [
            "[46, 42, 41, 49]\n",
            "178\n",
            "44.5\n",
            "41\n",
            "49\n"
          ],
          "name": "stdout"
        },
        {
          "output_type": "display_data",
          "data": {
            "image/png": "[encoded data removed]",
            "text/plain": [
              "<Figure size 432x288 with 1 Axes>"
            ]
          },
          "metadata": {
            "tags": [],
            "needs_background": "light"
          }
        }
      ]
    },
    {
      "cell_type": "code",
      "metadata": {
        "trusted": true,
        "id": "lgX1swCaXbds",
        "outputId": "073e034b-031a-4919-bdf3-2f077ed3f9a6",
        "colab": {
          "base_uri": "https://localhost:8080/",
          "height": 313
        }
      },
      "source": [
        "print(\"soma: \", medio_array.sum())\n",
        "print(\"media: \", medio_array.mean())\n",
        "plt.xlabel('soma')\n",
        "plt.ylabel('media')\n",
        "x = [medio_array.sum()]\n",
        "y = [medio_array.mean()]\n",
        "plt.scatter(x,y, label = 'pontos', color = 'red', marker = '*', s = 80)\n",
        "plt.legend()\n",
        "plt.savefig('plot.png' , dpi=100, bbox_inches='tight')\n",
        "plt.show()"
      ],
      "execution_count": 61,
      "outputs": [
        {
          "output_type": "stream",
          "text": [
            "soma:  178\n",
            "media:  44.5\n"
          ],
          "name": "stdout"
        },
        {
          "output_type": "display_data",
          "data": {
            "image/png": "[encoded data removed]",
            "text/plain": [
              "<Figure size 432x288 with 1 Axes>"
            ]
          },
          "metadata": {
            "tags": [],
            "needs_background": "light"
          }
        }
      ]
    },
    {
      "cell_type": "code",
      "metadata": {
        "trusted": true,
        "id": "mBPadQZcXbd1",
        "outputId": "52dfb879-9760-4a01-e890-125704d11846",
        "colab": {
          "base_uri": "https://localhost:8080/",
          "height": 350
        }
      },
      "source": [
        "print(grande)\n",
        "grande_array = np.array(grande)\n",
        "ids = [l for l in range(len(grande_array))]\n",
        "print(grande_array.sum())\n",
        "print(grande_array.mean())\n",
        "print(grande_array.min())\n",
        "print(grande_array.max())\n",
        "plt.scatter(ids,grande_array, label = 'pontos', color = 'pink', marker = '*', s = 80)\n",
        "plt.legend()\n",
        "plt.savefig('plot.png' , dpi=100, bbox_inches='tight')\n",
        "plt.show()"
      ],
      "execution_count": 63,
      "outputs": [
        {
          "output_type": "stream",
          "text": [
            "[52, 58, 52, 67, 62, 61, 68, 62]\n",
            "482\n",
            "60.25\n",
            "52\n",
            "68\n"
          ],
          "name": "stdout"
        },
        {
          "output_type": "display_data",
          "data": {
            "image/png": "[encoded data removed]",
            "text/plain": [
              "<Figure size 432x288 with 1 Axes>"
            ]
          },
          "metadata": {
            "tags": [],
            "needs_background": "light"
          }
        }
      ]
    },
    {
      "cell_type": "code",
      "metadata": {
        "trusted": true,
        "id": "xEe3bxrSXbd-",
        "outputId": "03d41246-fd69-4932-9eb7-52e9e1253d60",
        "colab": {
          "base_uri": "https://localhost:8080/",
          "height": 313
        }
      },
      "source": [
        "print(\"soma: \", grande_array.sum())\n",
        "print(\"media: \", grande_array.mean())\n",
        "plt.xlabel('soma')\n",
        "plt.ylabel('media')\n",
        "x = [grande_array.sum()]\n",
        "y = [grande_array.mean()]\n",
        "plt.scatter(x,y, label = 'pontos', color = 'red', marker = '*', s = 80)\n",
        "plt.legend()\n",
        "plt.savefig('plot.png' , dpi=100, bbox_inches='tight')\n",
        "plt.show()"
      ],
      "execution_count": 64,
      "outputs": [
        {
          "output_type": "stream",
          "text": [
            "soma:  482\n",
            "media:  60.25\n"
          ],
          "name": "stdout"
        },
        {
          "output_type": "display_data",
          "data": {
            "image/png": "[encoded data removed]",
            "text/plain": [
              "<Figure size 432x288 with 1 Axes>"
            ]
          },
          "metadata": {
            "tags": [],
            "needs_background": "light"
          }
        }
      ]
    },
    {
      "cell_type": "code",
      "metadata": {
        "trusted": true,
        "id": "KaXdlUs3XbeK",
        "outputId": "3bcecf7a-0f36-4bf6-c1c0-154c0f59955c",
        "colab": {
          "base_uri": "https://localhost:8080/",
          "height": 350
        }
      },
      "source": [
        "print(descartado)\n",
        "descartado_array = np.array(descartado)\n",
        "ids = [l for l in range(len(descartado_array))]\n",
        "print(descartado_array.sum())\n",
        "print(descartado_array.mean())\n",
        "print(descartado_array.min())\n",
        "print(descartado_array.max())\n",
        "plt.scatter(ids,descartado_array, label = 'pontos', color = 'black', marker = '*', s = 80)\n",
        "plt.legend()\n",
        "plt.savefig('plot.png' , dpi=100, bbox_inches='tight')\n",
        "plt.show()"
      ],
      "execution_count": 65,
      "outputs": [
        {
          "output_type": "stream",
          "text": [
            "[2, 4, 92, 95, 99, 94, 81, 91, 73, 96, 18, 87, 79, 76, 80]\n",
            "1067\n",
            "71.13333333333334\n",
            "2\n",
            "99\n"
          ],
          "name": "stdout"
        },
        {
          "output_type": "display_data",
          "data": {
            "image/png": "[encoded data removed]",
            "text/plain": [
              "<Figure size 432x288 with 1 Axes>"
            ]
          },
          "metadata": {
            "tags": [],
            "needs_background": "light"
          }
        }
      ]
    },
    {
      "cell_type": "code",
      "metadata": {
        "trusted": true,
        "id": "72N4dEkJXbeV",
        "outputId": "948a302c-3333-4932-c541-3739ede0ede3",
        "colab": {
          "base_uri": "https://localhost:8080/",
          "height": 316
        }
      },
      "source": [
        "print(\"soma: \", descartado_array.sum())\n",
        "print(\"media: \", descartado_array.mean())\n",
        "plt.xlabel('soma')\n",
        "plt.ylabel('media')\n",
        "x = [descartado_array.sum()]\n",
        "y = [descartado_array.mean()]\n",
        "plt.scatter(x,y, label = 'pontos', color = 'red', marker = '*', s = 80)\n",
        "plt.legend()\n",
        "plt.savefig('plot.png' , dpi=100, bbox_inches='tight')\n",
        "plt.show()"
      ],
      "execution_count": 66,
      "outputs": [
        {
          "output_type": "stream",
          "text": [
            "soma:  1067\n",
            "media:  71.13333333333334\n"
          ],
          "name": "stdout"
        },
        {
          "output_type": "display_data",
          "data": {
            "image/png": "[encoded data removed]",
            "text/plain": [
              "<Figure size 432x288 with 1 Axes>"
            ]
          },
          "metadata": {
            "tags": [],
            "needs_background": "light"
          }
        }
      ]
    },
    {
      "cell_type": "code",
      "metadata": {
        "trusted": true,
        "id": "knQYqJG9Xbek",
        "outputId": "ae33ab3b-4d09-42fe-a563-d9c9f74bd6ee",
        "colab": {
          "base_uri": "https://localhost:8080/",
          "height": 333
        }
      },
      "source": [
        "print(pequeno)\n",
        "pequeno_array = np.array(pequeno)\n",
        "ids = [l for l in range(len(pequeno_array))]\n",
        "print(pequeno_array.sum())\n",
        "print(pequeno_array.mean())\n",
        "print(pequeno_array.min())\n",
        "print(pequeno_array.max())\n",
        "plt.pie(pequeno_array)\n",
        "plt.savefig('plot.png' , dpi=100, bbox_inches='tight')\n",
        "plt.show()"
      ],
      "execution_count": 67,
      "outputs": [
        {
          "output_type": "stream",
          "text": [
            "[33, 32, 29]\n",
            "94\n",
            "31.333333333333332\n",
            "29\n",
            "33\n"
          ],
          "name": "stdout"
        },
        {
          "output_type": "display_data",
          "data": {
            "image/png": "[encoded data removed]",
            "text/plain": [
              "<Figure size 432x288 with 1 Axes>"
            ]
          },
          "metadata": {
            "tags": []
          }
        }
      ]
    },
    {
      "cell_type": "code",
      "metadata": {
        "trusted": true,
        "id": "P2IuBk3vXbev",
        "outputId": "e2cd5de7-aee9-4bd5-d2ae-e2c84478061d",
        "colab": {
          "base_uri": "https://localhost:8080/",
          "height": 451
        }
      },
      "source": [
        "fatias = [pequeno_array.sum(),pequeno_array.mean(),pequeno_array.min(),pequeno_array.max()]\n",
        "materias = ['soma','media','minimo','maximo']\n",
        "colunas = ['c','m','r','k']\n",
        "plt.pie(fatias,labels = materias, colors = colunas, startangle = 80, shadow = False, explode = (1,1,0,0))"
      ],
      "execution_count": 68,
      "outputs": [
        {
          "output_type": "execute_result",
          "data": {
            "text/plain": [
              "([<matplotlib.patches.Wedge at 0x7f244be31630>,\n",
              "  <matplotlib.patches.Wedge at 0x7f244be31b00>,\n",
              "  <matplotlib.patches.Wedge at 0x7f244be31080>,\n",
              "  <matplotlib.patches.Wedge at 0x7f244c7d3b70>],\n",
              " [Text(-2.070102376543357, 0.353095101395569, 'soma'),\n",
              "  Text(0.743919161814899, -1.9638188003694788, 'media'),\n",
              "  Text(1.0787469509607959, -0.21518600278081845, 'minimo'),\n",
              "  Text(0.7318710100144588, 0.8211971899004623, 'maximo')])"
            ]
          },
          "metadata": {
            "tags": []
          },
          "execution_count": 68
        },
        {
          "output_type": "display_data",
          "data": {
            "image/png": "[encoded data removed]",
            "text/plain": [
              "<Figure size 432x288 with 1 Axes>"
            ]
          },
          "metadata": {
            "tags": []
          }
        }
      ]
    },
    {
      "cell_type": "code",
      "metadata": {
        "trusted": true,
        "id": "k4KAtcXyXbe6",
        "outputId": "5c32674c-9b14-44a0-afaa-570e3ed13285",
        "colab": {
          "base_uri": "https://localhost:8080/",
          "height": 333
        }
      },
      "source": [
        "print(medio)\n",
        "medio_array = np.array(medio)\n",
        "ids = [l for l in range(len(medio_array))]\n",
        "print(medio_array.sum())\n",
        "print(medio_array.mean())\n",
        "print(medio_array.min())\n",
        "print(medio_array.max())\n",
        "plt.pie(medio_array)\n",
        "plt.savefig('plot.png' , dpi=100, bbox_inches='tight')\n",
        "plt.show()"
      ],
      "execution_count": 69,
      "outputs": [
        {
          "output_type": "stream",
          "text": [
            "[46, 42, 41, 49]\n",
            "178\n",
            "44.5\n",
            "41\n",
            "49\n"
          ],
          "name": "stdout"
        },
        {
          "output_type": "display_data",
          "data": {
            "image/png": "[encoded data removed]",
            "text/plain": [
              "<Figure size 432x288 with 1 Axes>"
            ]
          },
          "metadata": {
            "tags": []
          }
        }
      ]
    },
    {
      "cell_type": "code",
      "metadata": {
        "trusted": true,
        "id": "IloAUAAaXbfE",
        "outputId": "9e4b28b0-fdbb-448e-93f0-2521b002914e",
        "colab": {
          "base_uri": "https://localhost:8080/",
          "height": 426
        }
      },
      "source": [
        "fatias = [medio_array.sum(),medio_array.mean(),medio_array.min(),medio_array.max()]\n",
        "materias = ['soma','media','minimo','maximo']\n",
        "colunas = ['c','m','r','k']\n",
        "plt.pie(fatias,labels = materias, colors = colunas, startangle = 80, shadow = False, explode = (1,1,0,0))"
      ],
      "execution_count": 70,
      "outputs": [
        {
          "output_type": "execute_result",
          "data": {
            "text/plain": [
              "([<matplotlib.patches.Wedge at 0x7f244beb9668>,\n",
              "  <matplotlib.patches.Wedge at 0x7f244beb9470>,\n",
              "  <matplotlib.patches.Wedge at 0x7f244beb9e48>,\n",
              "  <matplotlib.patches.Wedge at 0x7f244bf99b00>],\n",
              " [Text(-2.0979562542996586, -0.09262588755281162, 'soma'),\n",
              "  Text(1.3690730163936045, -1.5923690136971762, 'media'),\n",
              "  Text(1.0999993136260595, -0.0012288296049028848, 'minimo'),\n",
              "  Text(0.6806113580237381, 0.8641574968309209, 'maximo')])"
            ]
          },
          "metadata": {
            "tags": []
          },
          "execution_count": 70
        },
        {
          "output_type": "display_data",
          "data": {
            "image/png": "[encoded data removed]",
            "text/plain": [
              "<Figure size 432x288 with 1 Axes>"
            ]
          },
          "metadata": {
            "tags": []
          }
        }
      ]
    },
    {
      "cell_type": "code",
      "metadata": {
        "trusted": true,
        "id": "zRdy55yTXbfN",
        "outputId": "58349c9a-a9a5-488e-a3a4-fac52d6e410e",
        "colab": {
          "base_uri": "https://localhost:8080/",
          "height": 333
        }
      },
      "source": [
        "print(grande)\n",
        "grande_array = np.array(grande)\n",
        "ids = [l for l in range(len(grande_array))]\n",
        "print(grande_array.sum())\n",
        "print(grande_array.mean())\n",
        "print(grande_array.min())\n",
        "print(grande_array.max())\n",
        "plt.pie(grande_array)\n",
        "plt.savefig('plot.png' , dpi=100, bbox_inches='tight')\n",
        "plt.show()"
      ],
      "execution_count": 71,
      "outputs": [
        {
          "output_type": "stream",
          "text": [
            "[52, 58, 52, 67, 62, 61, 68, 62]\n",
            "482\n",
            "60.25\n",
            "52\n",
            "68\n"
          ],
          "name": "stdout"
        },
        {
          "output_type": "display_data",
          "data": {
            "image/png": "[encoded data removed]",
            "text/plain": [
              "<Figure size 432x288 with 1 Axes>"
            ]
          },
          "metadata": {
            "tags": []
          }
        }
      ]
    },
    {
      "cell_type": "code",
      "metadata": {
        "trusted": true,
        "id": "PEq-ZfceXbfY",
        "outputId": "15907daf-993e-4b5c-9bbf-caeefc1614f8",
        "colab": {
          "base_uri": "https://localhost:8080/",
          "height": 409
        }
      },
      "source": [
        "fatias = [grande_array.sum(),grande_array.mean(),grande_array.min(),grande_array.max()]\n",
        "materias = ['soma','media','minimo','maximo']\n",
        "colunas = ['c','m','r','k']\n",
        "plt.pie(fatias,labels = materias, colors = colunas, startangle = 80, shadow = False, explode = (1,1,0,0))"
      ],
      "execution_count": 72,
      "outputs": [
        {
          "output_type": "execute_result",
          "data": {
            "text/plain": [
              "([<matplotlib.patches.Wedge at 0x7f244c806ef0>,\n",
              "  <matplotlib.patches.Wedge at 0x7f244c82a3c8>,\n",
              "  <matplotlib.patches.Wedge at 0x7f244c82ad30>,\n",
              "  <matplotlib.patches.Wedge at 0x7f244c82a630>],\n",
              " [Text(-1.7999016403287675, -1.0818290461721816, 'soma'),\n",
              "  Text(2.099172878556959, -0.058934081233965284, 'media'),\n",
              "  Text(0.9629972959043597, 0.5316354089795855, 'minimo'),\n",
              "  Text(0.5245784027491259, 0.9668596068557089, 'maximo')])"
            ]
          },
          "metadata": {
            "tags": []
          },
          "execution_count": 72
        },
        {
          "output_type": "display_data",
          "data": {
            "image/png": "[encoded data removed]",
            "text/plain": [
              "<Figure size 432x288 with 1 Axes>"
            ]
          },
          "metadata": {
            "tags": []
          }
        }
      ]
    },
    {
      "cell_type": "code",
      "metadata": {
        "trusted": true,
        "id": "sJpaM22PXbff",
        "outputId": "93c9acff-7eee-440f-c9fa-a7a74ae8e889",
        "colab": {
          "base_uri": "https://localhost:8080/",
          "height": 333
        }
      },
      "source": [
        "print(descartado)\n",
        "descartado_array = np.array(descartado)\n",
        "ids = [l for l in range(len(descartado_array))]\n",
        "print(descartado_array.sum())\n",
        "print(descartado_array.mean())\n",
        "print(descartado_array.min())\n",
        "print(descartado_array.max())\n",
        "plt.pie(descartado_array)\n",
        "plt.savefig('plot.png' , dpi=100, bbox_inches='tight')\n",
        "plt.show()"
      ],
      "execution_count": 73,
      "outputs": [
        {
          "output_type": "stream",
          "text": [
            "[2, 4, 92, 95, 99, 94, 81, 91, 73, 96, 18, 87, 79, 76, 80]\n",
            "1067\n",
            "71.13333333333334\n",
            "2\n",
            "99\n"
          ],
          "name": "stdout"
        },
        {
          "output_type": "display_data",
          "data": {
            "image/png": "[encoded data removed]",
            "text/plain": [
              "<Figure size 432x288 with 1 Axes>"
            ]
          },
          "metadata": {
            "tags": []
          }
        }
      ]
    },
    {
      "cell_type": "code",
      "metadata": {
        "trusted": true,
        "id": "vrNoN9knXbfm",
        "outputId": "8a903d37-be9f-4782-ecac-01f9ce2f1926",
        "colab": {
          "base_uri": "https://localhost:8080/",
          "height": 449
        }
      },
      "source": [
        "fatias = [descartado_array.sum(),descartado_array.mean(),descartado_array.min(),descartado_array.max()]\n",
        "materias = ['soma','media','minimo','maximo']\n",
        "colunas = ['c','m','r','k']\n",
        "plt.pie(fatias,labels = materias, colors = colunas, startangle = 80, shadow = False, explode = (1,1,0,0))"
      ],
      "execution_count": 74,
      "outputs": [
        {
          "output_type": "execute_result",
          "data": {
            "text/plain": [
              "([<matplotlib.patches.Wedge at 0x7f244c192f98>,\n",
              "  <matplotlib.patches.Wedge at 0x7f244c091518>,\n",
              "  <matplotlib.patches.Wedge at 0x7f244c091a20>,\n",
              "  <matplotlib.patches.Wedge at 0x7f244c091f28>],\n",
              " [Text(-1.2046477701814255, -1.7201231786697484, 'soma'),\n",
              "  Text(1.6010371296659751, 1.358926086816695, 'media'),\n",
              "  Text(0.6930363510650903, 0.85422515539077, 'minimo'),\n",
              "  Text(0.45408293420939155, 1.0019025346109218, 'maximo')])"
            ]
          },
          "metadata": {
            "tags": []
          },
          "execution_count": 74
        },
        {
          "output_type": "display_data",
          "data": {
            "image/png": "[encoded data removed]",
            "text/plain": [
              "<Figure size 432x288 with 1 Axes>"
            ]
          },
          "metadata": {
            "tags": []
          }
        }
      ]
    },
    {
      "cell_type": "code",
      "metadata": {
        "trusted": true,
        "id": "2lPGYgd8Xbft"
      },
      "source": [
        "os.remove (\"controle.db\") if os.path.exists(\"controle.db\") else None"
      ],
      "execution_count": 75,
      "outputs": []
    },
    {
      "cell_type": "code",
      "metadata": {
        "trusted": true,
        "id": "719l5AglXbf4"
      },
      "source": [
        ""
      ],
      "execution_count": null,
      "outputs": []
    }
  ]
}