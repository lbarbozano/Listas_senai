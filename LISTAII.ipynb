{
  "nbformat": 4,
  "nbformat_minor": 0,
  "metadata": {
    "kernelspec": {
      "name": "python36",
      "display_name": "Python 3.6",
      "language": "python"
    },
    "language_info": {
      "mimetype": "text/x-python",
      "nbconvert_exporter": "python",
      "name": "python",
      "pygments_lexer": "ipython3",
      "version": "3.6.6",
      "file_extension": ".py",
      "codemirror_mode": {
        "version": 3,
        "name": "ipython"
      }
    },
    "colab": {
      "name": "LISTAII.ipynb",
      "provenance": [],
      "include_colab_link": true
    }
  },
  "cells": [
    {
      "cell_type": "markdown",
      "metadata": {
        "id": "view-in-github",
        "colab_type": "text"
      },
      "source": [
        "<a href=\"https://colab.research.google.com/github/lbarbozano/Listas_senai/blob/main/LISTAII.ipynb\" target=\"_parent\"><img src=\"https://colab.research.google.com/assets/colab-badge.svg\" alt=\"Open In Colab\"/></a>"
      ]
    },
    {
      "cell_type": "markdown",
      "metadata": {
        "id": "mJfT6kZnX0IV"
      },
      "source": [
        "\n",
        "Implemente um programa em python para cadastrar o nome do operador, uma senha e peça o login. Em seguida, criar um banco de dados chamado controle.db, que deve armazenar leituras de um sensor que mede altura de uma peça. As peças possuem três tamanhos, conforme descrição abaixo:\n",
        "Pequena: de 25 cm a 40cm\n",
        "\n",
        "Media: de 41 cm a 50cm\n",
        "\n",
        "Grande: de 51 cm a 70 cm\n",
        "\n",
        "Peças fora dessas medidas são descartáveis\n",
        "\n",
        "O banco de dados deve armazenar informações de 30 peças, conforme tabela abaixo:\n",
        "Id (primary key)\n",
        "\n",
        "Horário\n",
        "\n",
        "Tamanho\n",
        "\n",
        "Operador\n",
        "\n",
        "Depois de armazenar os dados, o programa em python deve mostrar ao operador a relação de peças pequenas, médias, grandes e descartáveis, baseada na tabela já salva. Utilize a função randômica para simular os valores das leituras dos sensores.\n",
        "Em seguida, é necessário apresentar os valores de soma e média através de gráficos linhas, colunas e pizza para cada tamanho cadastrado. Os doze gráficos devem ser salvos como imagem."
      ]
    },
    {
      "cell_type": "code",
      "metadata": {
        "id": "IdvPXW5rXuec",
        "outputId": "0d22dc2c-b91e-4c56-a16d-142c8e636490",
        "colab": {
          "base_uri": "https://localhost:8080/",
          "height": 119
        }
      },
      "source": [
        "import sqlite3\n",
        "import numpy as np\n",
        "import random\n",
        "import matplotlib.pyplot as plt\n",
        "import time\n",
        "import os\n",
        "import datetime\n",
        "\n",
        "nome = input(\"Digite seu nome: \")\n",
        "login = input(\"Login: \")\n",
        "senha = input(\"Senha: \")\n",
        "\n",
        "while login == senha:\n",
        "    print(\"Sua senha deve ser diferente do login: \")\n",
        "    senha = input(\"Senha: \")\n",
        "\n",
        "print(\"Cadastro aprovado \")"
      ],
      "execution_count": 1,
      "outputs": [
        {
          "output_type": "stream",
          "text": [
            "Digite seu nome: leandro\n",
            "Login: lbarbozano\n",
            "Senha: lbarbozano\n",
            "Sua senha deve ser diferente do login: \n",
            "Senha: leandro\n",
            "Cadastro aprovado \n"
          ],
          "name": "stdout"
        }
      ]
    },
    {
      "cell_type": "code",
      "metadata": {
        "trusted": true,
        "id": "M6m3zv4BXbZy",
        "outputId": "237c715d-14e3-45ee-9bd9-74c6d86074f9",
        "colab": {
          "base_uri": "https://localhost:8080/",
          "height": 136
        }
      },
      "source": [
        "while(login == input(\"Digite o login cadastrado: \") and senha == input(\"Digite a senha cadastrado: \")):\n",
        "   \n",
        "    print(\"Seja muito bem vindo!!!! \")\n",
        "   \n",
        "    BD = sqlite3.connect(\"controle.db\")\n",
        "    cursor = BD.cursor()   \n",
        "    \n",
        "    cursor.execute('''create table if not exists leituras(\n",
        "                ID integer primary key autoincrement,\n",
        "                Horario integer (100),\n",
        "                Tamanho varchar (100),\n",
        "                Operador varchar (100))''')\n",
        "    \n",
        "    pecas = [] \n",
        "    \n",
        "    leandro_pequeno = []\n",
        "    pequeno = [] \n",
        "    \n",
        "    leandro_medio = []\n",
        "    medio = []\n",
        "   \n",
        "    leandro_grande = []\n",
        "    grande = []\n",
        "   \n",
        "    leandro_descartado = []\n",
        "    descartado = []   \n",
        "    \n",
        "    for x in range (30):\n",
        "        relogio = datetime.datetime.now()             \n",
        "        pecas.append(random.randrange(100))        \n",
        "   \n",
        "    for l in pecas:  \n",
        "        if l >= 25 and l <= 40:\n",
        "            pecas = 'Pequeno'\n",
        "            leandro_pequeno.append(pecas)\n",
        "            pequeno.append(l)\n",
        "           \n",
        "        elif l >= 41 and l <= 50:\n",
        "            pecas  = 'Medio'\n",
        "            leandro_medio.append(pecas)\n",
        "            medio.append(l)\n",
        "           \n",
        "        elif l >= 51 and l <= 70:\n",
        "            pecas = 'Grande'\n",
        "            leandro_grande.append(pecas)\n",
        "            grande.append(l)\n",
        "           \n",
        "        else:\n",
        "            pecas = 'Descartando'\n",
        "            leandro_descartado.append(pecas)\n",
        "            descartado.append(l)\n",
        "       \n",
        "      \n",
        "    cursor.execute(\"\"\" INSERT INTO leituras (Horario, Tamanho, Operador) VALUES (?, ?, ?) \"\"\", (relogio, pecas, login))\n",
        "    \n",
        "    BD.commit()\n",
        "    \n",
        "    \n",
        "       \n",
        "    print(pequeno)\n",
        "    print(medio)\n",
        "    print(grande)\n",
        "    print(descartado)      \n",
        "    \n",
        "    break"
      ],
      "execution_count": 2,
      "outputs": [
        {
          "output_type": "stream",
          "text": [
            "Digite o login cadastrado: lbarbozano\n",
            "Digite a senha cadastrado: leandro\n",
            "Seja muito bem vindo!!!! \n",
            "[33, 30, 28, 27, 30, 28, 30, 39, 26]\n",
            "[50]\n",
            "[57, 59, 59, 62, 62]\n",
            "[72, 75, 77, 98, 12, 16, 90, 96, 2, 92, 92, 6, 71, 16, 96]\n"
          ],
          "name": "stdout"
        }
      ]
    },
    {
      "cell_type": "code",
      "metadata": {
        "trusted": true,
        "id": "onkstdQFXbaC",
        "outputId": "d346141b-23d0-4445-8ab8-2c162f91344d",
        "colab": {
          "base_uri": "https://localhost:8080/",
          "height": 350
        }
      },
      "source": [
        "print(pequeno)\n",
        "pequeno_array = np.array(pequeno)\n",
        "ids = [l for l in range(len(pequeno_array))]\n",
        "print(pequeno_array.sum())\n",
        "print(pequeno_array.mean())\n",
        "print(pequeno_array.min())\n",
        "print(pequeno_array.max())\n",
        "plt.plot(ids,pequeno_array)\n",
        "plt.savefig('plot.png' , dpi=100, bbox_inches='tight')\n",
        "plt.show()"
      ],
      "execution_count": 3,
      "outputs": [
        {
          "output_type": "stream",
          "text": [
            "[33, 30, 28, 27, 30, 28, 30, 39, 26]\n",
            "271\n",
            "30.11111111111111\n",
            "26\n",
            "39\n"
          ],
          "name": "stdout"
        },
        {
          "output_type": "display_data",
          "data": {
            "image/png": "[encoded data removed]",
            "text/plain": [
              "<Figure size 432x288 with 1 Axes>"
            ]
          },
          "metadata": {
            "tags": [],
            "needs_background": "light"
          }
        }
      ]
    },
    {
      "cell_type": "code",
      "metadata": {
        "trusted": true,
        "id": "xWBgaSMGXbaT",
        "outputId": "9945bc7b-9622-4580-a298-51683caeb8b7",
        "colab": {
          "base_uri": "https://localhost:8080/",
          "height": 313
        }
      },
      "source": [
        "print(\"soma: \", pequeno_array.sum())\n",
        "print(\"media: \", pequeno_array.mean())\n",
        "plt.xlabel('soma')\n",
        "plt.ylabel('media')\n",
        "x = [0,pequeno_array.sum()]\n",
        "y = [0,pequeno_array.mean()]\n",
        "plt.plot(x,y, label = 'linha de soma e media')\n",
        "plt.legend()\n",
        "plt.savefig('plot.png' , dpi=100, bbox_inches='tight')\n",
        "plt.show()"
      ],
      "execution_count": 4,
      "outputs": [
        {
          "output_type": "stream",
          "text": [
            "soma:  271\n",
            "media:  30.11111111111111\n"
          ],
          "name": "stdout"
        },
        {
          "output_type": "display_data",
          "data": {
            "image/png": "[encoded data removed]",
            "text/plain": [
              "<Figure size 432x288 with 1 Axes>"
            ]
          },
          "metadata": {
            "tags": [],
            "needs_background": "light"
          }
        }
      ]
    },
    {
      "cell_type": "code",
      "metadata": {
        "trusted": true,
        "id": "K5G6SEVgXbag",
        "outputId": "5fd1e69d-aa8f-4543-f75a-e757c9bb1652",
        "colab": {
          "base_uri": "https://localhost:8080/",
          "height": 350
        }
      },
      "source": [
        "print(medio)\n",
        "medio_array = np.array(medio)\n",
        "ids = [l for l in range(len(medio_array))]\n",
        "print(medio_array.sum())\n",
        "print(medio_array.mean())\n",
        "print(medio_array.min())\n",
        "print(medio_array.max())\n",
        "plt.plot(ids,medio_array)\n",
        "plt.savefig('plot.png' , dpi=100, bbox_inches='tight')\n",
        "plt.show()"
      ],
      "execution_count": 5,
      "outputs": [
        {
          "output_type": "stream",
          "text": [
            "[50]\n",
            "50\n",
            "50.0\n",
            "50\n",
            "50\n"
          ],
          "name": "stdout"
        },
        {
          "output_type": "display_data",
          "data": {
            "image/png": "[encoded data removed]",
            "text/plain": [
              "<Figure size 432x288 with 1 Axes>"
            ]
          },
          "metadata": {
            "tags": [],
            "needs_background": "light"
          }
        }
      ]
    },
    {
      "cell_type": "code",
      "metadata": {
        "trusted": true,
        "id": "WOb96Ua6Xbaq",
        "outputId": "1671d8b1-3830-424e-d333-dda2a75e5c1e",
        "colab": {
          "base_uri": "https://localhost:8080/",
          "height": 313
        }
      },
      "source": [
        "print(\"soma: \", medio_array.sum())\n",
        "print(\"media: \", medio_array.mean())\n",
        "plt.xlabel('soma')\n",
        "plt.ylabel('media')\n",
        "x = [0,medio_array.sum()]\n",
        "y = [0,medio_array.mean()]\n",
        "plt.plot(x,y, label = 'linha de soma e media')\n",
        "plt.legend()\n",
        "plt.savefig('plot.png' , dpi=100, bbox_inches='tight')\n",
        "plt.show()"
      ],
      "execution_count": 6,
      "outputs": [
        {
          "output_type": "stream",
          "text": [
            "soma:  50\n",
            "media:  50.0\n"
          ],
          "name": "stdout"
        },
        {
          "output_type": "display_data",
          "data": {
            "image/png": "[encoded data removed]",
            "text/plain": [
              "<Figure size 432x288 with 1 Axes>"
            ]
          },
          "metadata": {
            "tags": [],
            "needs_background": "light"
          }
        }
      ]
    },
    {
      "cell_type": "code",
      "metadata": {
        "trusted": true,
        "id": "gfWneb-QXba9",
        "outputId": "9f0cc72d-435b-45b0-87dc-67215cbe61a0",
        "colab": {
          "base_uri": "https://localhost:8080/",
          "height": 350
        }
      },
      "source": [
        "print(grande)\n",
        "grande_array = np.array(grande)\n",
        "ids = [l for l in range(len(grande_array))]\n",
        "print(grande_array.sum())\n",
        "print(grande_array.mean())\n",
        "print(grande_array.min())\n",
        "print(grande_array.max())\n",
        "plt.plot(ids,grande_array)\n",
        "plt.savefig('plot.png' , dpi=100, bbox_inches='tight')\n",
        "plt.show()"
      ],
      "execution_count": 7,
      "outputs": [
        {
          "output_type": "stream",
          "text": [
            "[57, 59, 59, 62, 62]\n",
            "299\n",
            "59.8\n",
            "57\n",
            "62\n"
          ],
          "name": "stdout"
        },
        {
          "output_type": "display_data",
          "data": {
            "image/png": "[encoded data removed]",
            "text/plain": [
              "<Figure size 432x288 with 1 Axes>"
            ]
          },
          "metadata": {
            "tags": [],
            "needs_background": "light"
          }
        }
      ]
    },
    {
      "cell_type": "code",
      "metadata": {
        "trusted": true,
        "id": "SdJMdinkXbbJ",
        "outputId": "b160cb38-4654-4d01-b6e8-0af05cc121b1",
        "colab": {
          "base_uri": "https://localhost:8080/",
          "height": 313
        }
      },
      "source": [
        "print(\"soma: \", grande_array.sum())\n",
        "print(\"media: \", grande_array.mean())\n",
        "plt.xlabel('soma')\n",
        "plt.ylabel('media')\n",
        "x = [0,grande_array.sum()]\n",
        "y = [0,grande_array.mean()]\n",
        "plt.plot(x,y, label = 'linha de soma e media')\n",
        "plt.legend()\n",
        "plt.savefig('plot.png' , dpi=100, bbox_inches='tight')\n",
        "plt.show()"
      ],
      "execution_count": 8,
      "outputs": [
        {
          "output_type": "stream",
          "text": [
            "soma:  299\n",
            "media:  59.8\n"
          ],
          "name": "stdout"
        },
        {
          "output_type": "display_data",
          "data": {
            "image/png": "[encoded data removed]",
            "text/plain": [
              "<Figure size 432x288 with 1 Axes>"
            ]
          },
          "metadata": {
            "tags": [],
            "needs_background": "light"
          }
        }
      ]
    },
    {
      "cell_type": "code",
      "metadata": {
        "trusted": true,
        "id": "ACSs7OfYXbbT",
        "outputId": "e6ead6af-1fb9-4730-ba60-e85efc328e08",
        "colab": {
          "base_uri": "https://localhost:8080/",
          "height": 350
        }
      },
      "source": [
        "print(descartado)\n",
        "descartado_array = np.array(descartado)\n",
        "ids = [l for l in range(len(descartado_array))]\n",
        "print(descartado_array.sum())\n",
        "print(descartado_array.mean())\n",
        "print(descartado_array.min())\n",
        "print(descartado_array.max())\n",
        "plt.plot(ids,descartado_array)\n",
        "plt.savefig('plot.png' , dpi=100, bbox_inches='tight')\n",
        "plt.show()"
      ],
      "execution_count": 9,
      "outputs": [
        {
          "output_type": "stream",
          "text": [
            "[72, 75, 77, 98, 12, 16, 90, 96, 2, 92, 92, 6, 71, 16, 96]\n",
            "911\n",
            "60.733333333333334\n",
            "2\n",
            "98\n"
          ],
          "name": "stdout"
        },
        {
          "output_type": "display_data",
          "data": {
            "image/png": "[encoded data removed]",
            "text/plain": [
              "<Figure size 432x288 with 1 Axes>"
            ]
          },
          "metadata": {
            "tags": [],
            "needs_background": "light"
          }
        }
      ]
    },
    {
      "cell_type": "code",
      "metadata": {
        "trusted": true,
        "id": "W0dKWlCaXbbi",
        "outputId": "f16d5e78-09aa-4974-f008-5f5149e1e6cc",
        "colab": {
          "base_uri": "https://localhost:8080/",
          "height": 313
        }
      },
      "source": [
        "print(\"soma: \", descartado_array.sum())\n",
        "print(\"media: \", descartado_array.mean())\n",
        "plt.xlabel('soma')\n",
        "plt.ylabel('media')\n",
        "x = [0,descartado_array.sum()]\n",
        "y = [0,descartado_array.mean()]\n",
        "plt.plot(x,y, label = 'linha de soma e media')\n",
        "plt.legend()\n",
        "plt.savefig('plot.png' , dpi=100, bbox_inches='tight')\n",
        "plt.show()"
      ],
      "execution_count": 10,
      "outputs": [
        {
          "output_type": "stream",
          "text": [
            "soma:  911\n",
            "media:  60.733333333333334\n"
          ],
          "name": "stdout"
        },
        {
          "output_type": "display_data",
          "data": {
            "image/png": "[encoded data removed]",
            "text/plain": [
              "<Figure size 432x288 with 1 Axes>"
            ]
          },
          "metadata": {
            "tags": [],
            "needs_background": "light"
          }
        }
      ]
    },
    {
      "cell_type": "code",
      "metadata": {
        "trusted": true,
        "id": "_JuswtP7Xbbs",
        "outputId": "af7eaac1-efbf-4a59-9cc0-f2f579115492",
        "colab": {
          "base_uri": "https://localhost:8080/",
          "height": 350
        }
      },
      "source": [
        "print(pequeno)\n",
        "pequeno_array = np.array(pequeno)\n",
        "ids = [l for l in range(len(pequeno_array))]\n",
        "print(pequeno_array.sum())\n",
        "print(pequeno_array.mean())\n",
        "print(pequeno_array.min())\n",
        "print(pequeno_array.max())\n",
        "plt.bar(ids,pequeno_array, label = 'barras1', color = 'red')\n",
        "plt.savefig('plot.png' , dpi=100, bbox_inches='tight')\n",
        "plt.show()"
      ],
      "execution_count": 11,
      "outputs": [
        {
          "output_type": "stream",
          "text": [
            "[33, 30, 28, 27, 30, 28, 30, 39, 26]\n",
            "271\n",
            "30.11111111111111\n",
            "26\n",
            "39\n"
          ],
          "name": "stdout"
        },
        {
          "output_type": "display_data",
          "data": {
            "image/png": "[encoded data removed]",
            "text/plain": [
              "<Figure size 432x288 with 1 Axes>"
            ]
          },
          "metadata": {
            "tags": [],
            "needs_background": "light"
          }
        }
      ]
    },
    {
      "cell_type": "code",
      "metadata": {
        "trusted": true,
        "id": "ppWUY0vAXbb2",
        "outputId": "955b2250-4916-425b-af67-9ba587767c24",
        "colab": {
          "base_uri": "https://localhost:8080/",
          "height": 350
        }
      },
      "source": [
        "print(pequeno)\n",
        "pequeno_array.mean()\n",
        "pequeno_array.sum()\n",
        "pequeno_array.min()\n",
        "pequeno_array.max()\n",
        "print(pequeno_array.mean)\n",
        "print(pequeno_array.sum)\n",
        "print(pequeno_array.min)\n",
        "print(pequeno_array.max)\n",
        "x = pequeno_array.mean()\n",
        "y = pequeno_array.mean()\n",
        "l = pequeno_array.sum()\n",
        "r = pequeno_array.sum()\n",
        "m = pequeno_array.min()\n",
        "n = pequeno_array.min()\n",
        "a = pequeno_array.max()\n",
        "b = pequeno_array.max()\n",
        "plt.bar(x,y, label= 'barras1', color = 'black')\n",
        "plt.bar(l,r, label= 'barras2', color = 'blue')\n",
        "plt.bar(m,n, label= 'barras3', color = 'red')\n",
        "plt.bar(a,b, label= 'barras4', color = 'yellow')\n",
        "plt.savefig('plot.png', dpi =100, bbox_inches='tight')\n",
        "plt.show()"
      ],
      "execution_count": 12,
      "outputs": [
        {
          "output_type": "stream",
          "text": [
            "[33, 30, 28, 27, 30, 28, 30, 39, 26]\n",
            "<built-in method mean of numpy.ndarray object at 0x7f244c1072b0>\n",
            "<built-in method sum of numpy.ndarray object at 0x7f244c1072b0>\n",
            "<built-in method min of numpy.ndarray object at 0x7f244c1072b0>\n",
            "<built-in method max of numpy.ndarray object at 0x7f244c1072b0>\n"
          ],
          "name": "stdout"
        },
        {
          "output_type": "display_data",
          "data": {
            "image/png": "[encoded data removed]",
            "text/plain": [
              "<Figure size 432x288 with 1 Axes>"
            ]
          },
          "metadata": {
            "tags": [],
            "needs_background": "light"
          }
        }
      ]
    },
    {
      "cell_type": "code",
      "metadata": {
        "trusted": true,
        "id": "0X7JwwhVXbcE",
        "outputId": "14d490cf-750e-4cec-d81c-3af7df810e61",
        "colab": {
          "base_uri": "https://localhost:8080/",
          "height": 350
        }
      },
      "source": [
        "print(medio)\n",
        "medio_array = np.array(medio)\n",
        "ids = [l for l in range(len(medio_array))]\n",
        "print(medio_array.sum())\n",
        "print(medio_array.mean())\n",
        "print(medio_array.min())\n",
        "print(medio_array.max())\n",
        "plt.bar(ids,medio_array, label = 'barras2', color = 'green')\n",
        "plt.savefig('plot.png' , dpi=100, bbox_inches='tight')\n",
        "plt.show()"
      ],
      "execution_count": 13,
      "outputs": [
        {
          "output_type": "stream",
          "text": [
            "[50]\n",
            "50\n",
            "50.0\n",
            "50\n",
            "50\n"
          ],
          "name": "stdout"
        },
        {
          "output_type": "display_data",
          "data": {
            "image/png": "[encoded data removed]",
            "text/plain": [
              "<Figure size 432x288 with 1 Axes>"
            ]
          },
          "metadata": {
            "tags": [],
            "needs_background": "light"
          }
        }
      ]
    },
    {
      "cell_type": "code",
      "metadata": {
        "trusted": true,
        "id": "ouYRxZ-qXbcR",
        "outputId": "496d90d5-a17e-4aa3-e692-0a9e37617939",
        "colab": {
          "base_uri": "https://localhost:8080/",
          "height": 350
        }
      },
      "source": [
        "print(medio)\n",
        "medio_array.mean()\n",
        "medio_array.sum()\n",
        "medio_array.min()\n",
        "medio_array.max()\n",
        "print(medio_array.mean)\n",
        "print(medio_array.sum)\n",
        "print(medio_array.min)\n",
        "print(medio_array.max)\n",
        "x = medio_array.mean()\n",
        "y = medio_array.mean()\n",
        "l = medio_array.sum()\n",
        "r = medio_array.sum()\n",
        "m = medio_array.min()\n",
        "n = medio_array.min()\n",
        "a = medio_array.max()\n",
        "b = medio_array.max()\n",
        "plt.bar(x,y, label= 'barras1', color = 'black')\n",
        "plt.bar(l,r, label= 'barras2', color = 'blue')\n",
        "plt.bar(m,n, label= 'barras3', color = 'red')\n",
        "plt.bar(a,b, label= 'barras4', color = 'yellow')\n",
        "plt.savefig('plot.png', dpi =100, bbox_inches='tight')\n",
        "plt.show()"
      ],
      "execution_count": 14,
      "outputs": [
        {
          "output_type": "stream",
          "text": [
            "[50]\n",
            "<built-in method mean of numpy.ndarray object at 0x7f244bfb0350>\n",
            "<built-in method sum of numpy.ndarray object at 0x7f244bfb0350>\n",
            "<built-in method min of numpy.ndarray object at 0x7f244bfb0350>\n",
            "<built-in method max of numpy.ndarray object at 0x7f244bfb0350>\n"
          ],
          "name": "stdout"
        },
        {
          "output_type": "display_data",
          "data": {
            "image/png": "[encoded data removed]",
            "text/plain": [
              "<Figure size 432x288 with 1 Axes>"
            ]
          },
          "metadata": {
            "tags": [],
            "needs_background": "light"
          }
        }
      ]
    },
    {
      "cell_type": "code",
      "metadata": {
        "trusted": true,
        "id": "7KdwcH62Xbcc",
        "outputId": "02a1127c-7d6d-405f-ff46-c0ae1c72e09f",
        "colab": {
          "base_uri": "https://localhost:8080/",
          "height": 350
        }
      },
      "source": [
        "print(grande)\n",
        "grande_array = np.array(grande)\n",
        "ids = [l for l in range(len(grande_array))]\n",
        "print(grande_array.sum())\n",
        "print(grande_array.mean())\n",
        "print(grande_array.min())\n",
        "print(grande_array.max())\n",
        "plt.bar(ids,grande_array, label = 'barras3', color = 'yellow')\n",
        "plt.savefig('plot.png' , dpi=100, bbox_inches='tight')\n",
        "plt.show()"
      ],
      "execution_count": 15,
      "outputs": [
        {
          "output_type": "stream",
          "text": [
            "[57, 59, 59, 62, 62]\n",
            "299\n",
            "59.8\n",
            "57\n",
            "62\n"
          ],
          "name": "stdout"
        },
        {
          "output_type": "display_data",
          "data": {
            "image/png": "[encoded data removed]",
            "text/plain": [
              "<Figure size 432x288 with 1 Axes>"
            ]
          },
          "metadata": {
            "tags": [],
            "needs_background": "light"
          }
        }
      ]
    },
    {
      "cell_type": "code",
      "metadata": {
        "trusted": true,
        "id": "SsPMPULFXbcl",
        "outputId": "037bb30c-02a9-4c1d-c6f7-6200d2487c04",
        "colab": {
          "base_uri": "https://localhost:8080/",
          "height": 350
        }
      },
      "source": [
        "print(grande)\n",
        "grande_array.mean()\n",
        "grande_array.sum()\n",
        "grande_array.min()\n",
        "grande_array.max()\n",
        "print(grande_array.mean)\n",
        "print(grande_array.sum)\n",
        "print(grande_array.min)\n",
        "print(grande_array.max)\n",
        "x = grande_array.mean()\n",
        "y = grande_array.mean()\n",
        "l = grande_array.sum()\n",
        "r = grande_array.sum()\n",
        "m = grande_array.min()\n",
        "n = grande_array.min()\n",
        "a = grande_array.max()\n",
        "b = grande_array.max()\n",
        "plt.bar(x,y, label= 'barras1', color = 'black')\n",
        "plt.bar(l,r, label= 'barras2', color = 'blue')\n",
        "plt.bar(m,n, label= 'barras3', color = 'red')\n",
        "plt.bar(a,b, label= 'barras4', color = 'yellow')\n",
        "plt.savefig('plot.png', dpi =100, bbox_inches='tight')\n",
        "plt.show()"
      ],
      "execution_count": 16,
      "outputs": [
        {
          "output_type": "stream",
          "text": [
            "[57, 59, 59, 62, 62]\n",
            "<built-in method mean of numpy.ndarray object at 0x7f244beaa030>\n",
            "<built-in method sum of numpy.ndarray object at 0x7f244beaa030>\n",
            "<built-in method min of numpy.ndarray object at 0x7f244beaa030>\n",
            "<built-in method max of numpy.ndarray object at 0x7f244beaa030>\n"
          ],
          "name": "stdout"
        },
        {
          "output_type": "display_data",
          "data": {
            "image/png": "[encoded data removed]",
            "text/plain": [
              "<Figure size 432x288 with 1 Axes>"
            ]
          },
          "metadata": {
            "tags": [],
            "needs_background": "light"
          }
        }
      ]
    },
    {
      "cell_type": "code",
      "metadata": {
        "trusted": true,
        "id": "5Ld1u6tRXbct",
        "outputId": "0a1e8f61-b08b-47be-a37f-53df74d18d4a",
        "colab": {
          "base_uri": "https://localhost:8080/",
          "height": 350
        }
      },
      "source": [
        "print(descartado)\n",
        "descartado_array = np.array(descartado)\n",
        "ids = [l for l in range(len(descartado_array))]\n",
        "print(descartado_array.sum())\n",
        "print(descartado_array.mean())\n",
        "print(descartado_array.min())\n",
        "print(descartado_array.max())\n",
        "plt.bar(ids,descartado_array, label = 'barras4', color = 'blue')\n",
        "plt.savefig('plot.png' , dpi=100, bbox_inches='tight')\n",
        "plt.show()"
      ],
      "execution_count": 17,
      "outputs": [
        {
          "output_type": "stream",
          "text": [
            "[72, 75, 77, 98, 12, 16, 90, 96, 2, 92, 92, 6, 71, 16, 96]\n",
            "911\n",
            "60.733333333333334\n",
            "2\n",
            "98\n"
          ],
          "name": "stdout"
        },
        {
          "output_type": "display_data",
          "data": {
            "image/png": "[encoded data removed]",
            "text/plain": [
              "<Figure size 432x288 with 1 Axes>"
            ]
          },
          "metadata": {
            "tags": [],
            "needs_background": "light"
          }
        }
      ]
    },
    {
      "cell_type": "code",
      "metadata": {
        "trusted": true,
        "id": "IQkK2jXDXbc2",
        "outputId": "7f5f4f8d-e287-4791-ea4c-c706f98cdba5",
        "colab": {
          "base_uri": "https://localhost:8080/",
          "height": 350
        }
      },
      "source": [
        "print(descartado)\n",
        "descartado_array.mean()\n",
        "descartado_array.sum()\n",
        "descartado_array.min()\n",
        "descartado_array.max()\n",
        "print(descartado_array.mean)\n",
        "print(descartado_array.sum)\n",
        "print(descartado_array.min)\n",
        "print(descartado_array.max)\n",
        "x = descartado_array.mean()\n",
        "y = descartado_array.mean()\n",
        "l = descartado_array.sum()\n",
        "r = descartado_array.sum()\n",
        "m = descartado_array.min()\n",
        "n = descartado_array.min()\n",
        "a = descartado_array.max()\n",
        "b = descartado_array.max()\n",
        "plt.bar(x,y, label= 'barras1', color = 'black')\n",
        "plt.bar(l,r, label= 'barras2', color = 'blue')\n",
        "plt.bar(m,n, label= 'barras3', color = 'red')\n",
        "plt.bar(a,b, label= 'barras4', color = 'yellow')\n",
        "plt.savefig('plot.png', dpi =100, bbox_inches='tight')\n",
        "plt.show()"
      ],
      "execution_count": 18,
      "outputs": [
        {
          "output_type": "stream",
          "text": [
            "[72, 75, 77, 98, 12, 16, 90, 96, 2, 92, 92, 6, 71, 16, 96]\n",
            "<built-in method mean of numpy.ndarray object at 0x7f244c281ad0>\n",
            "<built-in method sum of numpy.ndarray object at 0x7f244c281ad0>\n",
            "<built-in method min of numpy.ndarray object at 0x7f244c281ad0>\n",
            "<built-in method max of numpy.ndarray object at 0x7f244c281ad0>\n"
          ],
          "name": "stdout"
        },
        {
          "output_type": "display_data",
          "data": {
            "image/png": "[encoded data removed]",
            "text/plain": [
              "<Figure size 432x288 with 1 Axes>"
            ]
          },
          "metadata": {
            "tags": [],
            "needs_background": "light"
          }
        }
      ]
    },
    {
      "cell_type": "code",
      "metadata": {
        "trusted": true,
        "id": "N99zAFmGXbdP",
        "outputId": "36de225f-37ee-4099-a376-0709e3965685",
        "colab": {
          "base_uri": "https://localhost:8080/",
          "height": 350
        }
      },
      "source": [
        "print(pequeno)\n",
        "pequeno_array = np.array(pequeno)\n",
        "ids = [l for l in range(len(pequeno_array))]\n",
        "print(pequeno_array.sum())\n",
        "print(pequeno_array.mean())\n",
        "print(pequeno_array.min())\n",
        "print(pequeno_array.max())\n",
        "plt.scatter(ids,pequeno_array, label = 'pontos', color = 'red', marker = '*', s = 80)\n",
        "plt.legend()\n",
        "plt.savefig('plot.png' , dpi=100, bbox_inches='tight')\n",
        "plt.show()"
      ],
      "execution_count": 19,
      "outputs": [
        {
          "output_type": "stream",
          "text": [
            "[33, 30, 28, 27, 30, 28, 30, 39, 26]\n",
            "271\n",
            "30.11111111111111\n",
            "26\n",
            "39\n"
          ],
          "name": "stdout"
        },
        {
          "output_type": "display_data",
          "data": {
            "image/png": "[encoded data removed]",
            "text/plain": [
              "<Figure size 432x288 with 1 Axes>"
            ]
          },
          "metadata": {
            "tags": [],
            "needs_background": "light"
          }
        }
      ]
    },
    {
      "cell_type": "code",
      "metadata": {
        "trusted": true,
        "id": "c5xMW_aoXbda",
        "outputId": "5ae8d79d-d557-4bca-8ecf-f2e71afaea31",
        "colab": {
          "base_uri": "https://localhost:8080/",
          "height": 313
        }
      },
      "source": [
        "print(\"soma: \", pequeno_array.sum())\n",
        "print(\"media: \", pequeno_array.mean())\n",
        "plt.xlabel('soma')\n",
        "plt.ylabel('media')\n",
        "x = [pequeno_array.sum()]\n",
        "y = [pequeno_array.mean()]\n",
        "plt.scatter(x,y, label = 'pontos', color = 'red', marker = '*', s = 80)\n",
        "plt.legend()\n",
        "plt.savefig('plot.png' , dpi=100, bbox_inches='tight')\n",
        "plt.show()"
      ],
      "execution_count": 20,
      "outputs": [
        {
          "output_type": "stream",
          "text": [
            "soma:  271\n",
            "media:  30.11111111111111\n"
          ],
          "name": "stdout"
        },
        {
          "output_type": "display_data",
          "data": {
            "image/png": "[encoded data removed]",
            "text/plain": [
              "<Figure size 432x288 with 1 Axes>"
            ]
          },
          "metadata": {
            "tags": [],
            "needs_background": "light"
          }
        }
      ]
    },
    {
      "cell_type": "code",
      "metadata": {
        "trusted": true,
        "id": "ctiwsMFlXbdi",
        "outputId": "9ad97148-3964-47f0-8ac3-4ccc0bc7459c",
        "colab": {
          "base_uri": "https://localhost:8080/",
          "height": 350
        }
      },
      "source": [
        "print(medio)\n",
        "medio_array = np.array(medio)\n",
        "ids = [l for l in range(len(medio_array))]\n",
        "print(medio_array.sum())\n",
        "print(medio_array.mean())\n",
        "print(medio_array.min())\n",
        "print(medio_array.max())\n",
        "plt.scatter(ids,medio_array, label = 'pontos', color = 'blue', marker = '*', s = 80)\n",
        "plt.legend()\n",
        "plt.savefig('plot.png' , dpi=100, bbox_inches='tight')\n",
        "plt.show()"
      ],
      "execution_count": 21,
      "outputs": [
        {
          "output_type": "stream",
          "text": [
            "[50]\n",
            "50\n",
            "50.0\n",
            "50\n",
            "50\n"
          ],
          "name": "stdout"
        },
        {
          "output_type": "display_data",
          "data": {
            "image/png": "[encoded data removed]",
            "text/plain": [
              "<Figure size 432x288 with 1 Axes>"
            ]
          },
          "metadata": {
            "tags": [],
            "needs_background": "light"
          }
        }
      ]
    },
    {
      "cell_type": "code",
      "metadata": {
        "trusted": true,
        "id": "lgX1swCaXbds",
        "outputId": "120ae1f5-7a22-401b-b3c2-d0270b71d03e",
        "colab": {
          "base_uri": "https://localhost:8080/",
          "height": 313
        }
      },
      "source": [
        "print(\"soma: \", medio_array.sum())\n",
        "print(\"media: \", medio_array.mean())\n",
        "plt.xlabel('soma')\n",
        "plt.ylabel('media')\n",
        "x = [medio_array.sum()]\n",
        "y = [medio_array.mean()]\n",
        "plt.scatter(x,y, label = 'pontos', color = 'red', marker = '*', s = 80)\n",
        "plt.legend()\n",
        "plt.savefig('plot.png' , dpi=100, bbox_inches='tight')\n",
        "plt.show()"
      ],
      "execution_count": 22,
      "outputs": [
        {
          "output_type": "stream",
          "text": [
            "soma:  50\n",
            "media:  50.0\n"
          ],
          "name": "stdout"
        },
        {
          "output_type": "display_data",
          "data": {
            "image/png": "[encoded data removed]",
            "text/plain": [
              "<Figure size 432x288 with 1 Axes>"
            ]
          },
          "metadata": {
            "tags": [],
            "needs_background": "light"
          }
        }
      ]
    },
    {
      "cell_type": "code",
      "metadata": {
        "trusted": true,
        "id": "mBPadQZcXbd1",
        "outputId": "ca5decf3-57cd-4846-cdf4-acabeed7afd1",
        "colab": {
          "base_uri": "https://localhost:8080/",
          "height": 350
        }
      },
      "source": [
        "print(grande)\n",
        "grande_array = np.array(grande)\n",
        "ids = [l for l in range(len(grande_array))]\n",
        "print(grande_array.sum())\n",
        "print(grande_array.mean())\n",
        "print(grande_array.min())\n",
        "print(grande_array.max())\n",
        "plt.scatter(ids,grande_array, label = 'pontos', color = 'pink', marker = '*', s = 80)\n",
        "plt.legend()\n",
        "plt.savefig('plot.png' , dpi=100, bbox_inches='tight')\n",
        "plt.show()"
      ],
      "execution_count": 23,
      "outputs": [
        {
          "output_type": "stream",
          "text": [
            "[57, 59, 59, 62, 62]\n",
            "299\n",
            "59.8\n",
            "57\n",
            "62\n"
          ],
          "name": "stdout"
        },
        {
          "output_type": "display_data",
          "data": {
            "image/png": "[encoded data removed]",
            "text/plain": [
              "<Figure size 432x288 with 1 Axes>"
            ]
          },
          "metadata": {
            "tags": [],
            "needs_background": "light"
          }
        }
      ]
    },
    {
      "cell_type": "code",
      "metadata": {
        "trusted": true,
        "id": "xEe3bxrSXbd-",
        "outputId": "9227cbc0-94f5-497b-d387-d9ed08af2609",
        "colab": {
          "base_uri": "https://localhost:8080/",
          "height": 314
        }
      },
      "source": [
        "print(\"soma: \", grande_array.sum())\n",
        "print(\"media: \", grande_array.mean())\n",
        "plt.xlabel('soma')\n",
        "plt.ylabel('media')\n",
        "x = [grande_array.sum()]\n",
        "y = [grande_array.mean()]\n",
        "plt.scatter(x,y, label = 'pontos', color = 'red', marker = '*', s = 80)\n",
        "plt.legend()\n",
        "plt.savefig('plot.png' , dpi=100, bbox_inches='tight')\n",
        "plt.show()"
      ],
      "execution_count": 24,
      "outputs": [
        {
          "output_type": "stream",
          "text": [
            "soma:  299\n",
            "media:  59.8\n"
          ],
          "name": "stdout"
        },
        {
          "output_type": "display_data",
          "data": {
            "image/png": "[encoded data removed]",
            "text/plain": [
              "<Figure size 432x288 with 1 Axes>"
            ]
          },
          "metadata": {
            "tags": [],
            "needs_background": "light"
          }
        }
      ]
    },
    {
      "cell_type": "code",
      "metadata": {
        "trusted": true,
        "id": "KaXdlUs3XbeK",
        "outputId": "8d397f4b-33ed-48b3-9e73-efe2a500b47d",
        "colab": {
          "base_uri": "https://localhost:8080/",
          "height": 350
        }
      },
      "source": [
        "print(descartado)\n",
        "descartado_array = np.array(descartado)\n",
        "ids = [l for l in range(len(descartado_array))]\n",
        "print(descartado_array.sum())\n",
        "print(descartado_array.mean())\n",
        "print(descartado_array.min())\n",
        "print(descartado_array.max())\n",
        "plt.scatter(ids,descartado_array, label = 'pontos', color = 'black', marker = '*', s = 80)\n",
        "plt.legend()\n",
        "plt.savefig('plot.png' , dpi=100, bbox_inches='tight')\n",
        "plt.show()"
      ],
      "execution_count": 25,
      "outputs": [
        {
          "output_type": "stream",
          "text": [
            "[72, 75, 77, 98, 12, 16, 90, 96, 2, 92, 92, 6, 71, 16, 96]\n",
            "911\n",
            "60.733333333333334\n",
            "2\n",
            "98\n"
          ],
          "name": "stdout"
        },
        {
          "output_type": "display_data",
          "data": {
            "image/png": "[encoded data removed]",
            "text/plain": [
              "<Figure size 432x288 with 1 Axes>"
            ]
          },
          "metadata": {
            "tags": [],
            "needs_background": "light"
          }
        }
      ]
    },
    {
      "cell_type": "code",
      "metadata": {
        "trusted": true,
        "id": "72N4dEkJXbeV",
        "outputId": "97c860e0-dbd3-4139-9d2c-d24937d29f9e",
        "colab": {
          "base_uri": "https://localhost:8080/",
          "height": 315
        }
      },
      "source": [
        "print(\"soma: \", descartado_array.sum())\n",
        "print(\"media: \", descartado_array.mean())\n",
        "plt.xlabel('soma')\n",
        "plt.ylabel('media')\n",
        "x = [descartado_array.sum()]\n",
        "y = [descartado_array.mean()]\n",
        "plt.scatter(x,y, label = 'pontos', color = 'red', marker = '*', s = 80)\n",
        "plt.legend()\n",
        "plt.savefig('plot.png' , dpi=100, bbox_inches='tight')\n",
        "plt.show()"
      ],
      "execution_count": 26,
      "outputs": [
        {
          "output_type": "stream",
          "text": [
            "soma:  911\n",
            "media:  60.733333333333334\n"
          ],
          "name": "stdout"
        },
        {
          "output_type": "display_data",
          "data": {
            "image/png": "[encoded data removed]",
            "text/plain": [
              "<Figure size 432x288 with 1 Axes>"
            ]
          },
          "metadata": {
            "tags": [],
            "needs_background": "light"
          }
        }
      ]
    },
    {
      "cell_type": "code",
      "metadata": {
        "trusted": true,
        "id": "knQYqJG9Xbek",
        "outputId": "2701dd91-9221-4a62-8342-78e4017efce8",
        "colab": {
          "base_uri": "https://localhost:8080/",
          "height": 333
        }
      },
      "source": [
        "print(pequeno)\n",
        "pequeno_array = np.array(pequeno)\n",
        "ids = [l for l in range(len(pequeno_array))]\n",
        "print(pequeno_array.sum())\n",
        "print(pequeno_array.mean())\n",
        "print(pequeno_array.min())\n",
        "print(pequeno_array.max())\n",
        "plt.pie(pequeno_array)\n",
        "plt.savefig('plot.png' , dpi=100, bbox_inches='tight')\n",
        "plt.show()"
      ],
      "execution_count": 27,
      "outputs": [
        {
          "output_type": "stream",
          "text": [
            "[33, 30, 28, 27, 30, 28, 30, 39, 26]\n",
            "271\n",
            "30.11111111111111\n",
            "26\n",
            "39\n"
          ],
          "name": "stdout"
        },
        {
          "output_type": "display_data",
          "data": {
            "image/png": "[encoded data removed]",
            "text/plain": [
              "<Figure size 432x288 with 1 Axes>"
            ]
          },
          "metadata": {
            "tags": []
          }
        }
      ]
    },
    {
      "cell_type": "code",
      "metadata": {
        "trusted": true,
        "id": "P2IuBk3vXbev",
        "outputId": "5b4943f6-5847-4de5-e8a2-7e7260401c6e",
        "colab": {
          "base_uri": "https://localhost:8080/",
          "height": 412
        }
      },
      "source": [
        "fatias = [pequeno_array.sum(),pequeno_array.mean(),pequeno_array.min(),pequeno_array.max()]\n",
        "materias = ['soma','media','minimo','maximo']\n",
        "colunas = ['c','m','r','k']\n",
        "plt.pie(fatias,labels = materias, colors = colunas, startangle = 80, shadow = False, explode = (1,1,0,0))"
      ],
      "execution_count": 28,
      "outputs": [
        {
          "output_type": "execute_result",
          "data": {
            "text/plain": [
              "([<matplotlib.patches.Wedge at 0x7f244c0da128>,\n",
              "  <matplotlib.patches.Wedge at 0x7f244c0daac8>,\n",
              "  <matplotlib.patches.Wedge at 0x7f244c0dafd0>,\n",
              "  <matplotlib.patches.Wedge at 0x7f244c0b4358>],\n",
              " [Text(-1.7564372335016958, -1.1510552744194826, 'soma'),\n",
              "  Text(2.0994753866429097, 0.04693720145689438, 'media'),\n",
              "  Text(0.9633079158660796, 0.5310723672247978, 'minimo'),\n",
              "  Text(0.536218366631853, 0.960452946940488, 'maximo')])"
            ]
          },
          "metadata": {
            "tags": []
          },
          "execution_count": 28
        },
        {
          "output_type": "display_data",
          "data": {
            "image/png": "[encoded data removed]",
            "text/plain": [
              "<Figure size 432x288 with 1 Axes>"
            ]
          },
          "metadata": {
            "tags": []
          }
        }
      ]
    },
    {
      "cell_type": "code",
      "metadata": {
        "trusted": true,
        "id": "k4KAtcXyXbe6",
        "outputId": "88aaaa43-534f-4042-81ee-bea5e0d7b08b",
        "colab": {
          "base_uri": "https://localhost:8080/",
          "height": 333
        }
      },
      "source": [
        "print(medio)\n",
        "medio_array = np.array(medio)\n",
        "ids = [l for l in range(len(medio_array))]\n",
        "print(medio_array.sum())\n",
        "print(medio_array.mean())\n",
        "print(medio_array.min())\n",
        "print(medio_array.max())\n",
        "plt.pie(medio_array)\n",
        "plt.savefig('plot.png' , dpi=100, bbox_inches='tight')\n",
        "plt.show()"
      ],
      "execution_count": 29,
      "outputs": [
        {
          "output_type": "stream",
          "text": [
            "[50]\n",
            "50\n",
            "50.0\n",
            "50\n",
            "50\n"
          ],
          "name": "stdout"
        },
        {
          "output_type": "display_data",
          "data": {
            "image/png": "[encoded data removed]",
            "text/plain": [
              "<Figure size 432x288 with 1 Axes>"
            ]
          },
          "metadata": {
            "tags": []
          }
        }
      ]
    },
    {
      "cell_type": "code",
      "metadata": {
        "trusted": true,
        "id": "IloAUAAaXbfE",
        "outputId": "35b10588-6410-45fc-e9bb-badb67360109",
        "colab": {
          "base_uri": "https://localhost:8080/",
          "height": 461
        }
      },
      "source": [
        "fatias = [medio_array.sum(),medio_array.mean(),medio_array.min(),medio_array.max()]\n",
        "materias = ['soma','media','minimo','maximo']\n",
        "colunas = ['c','m','r','k']\n",
        "plt.pie(fatias,labels = materias, colors = colunas, startangle = 80, shadow = False, explode = (1,1,0,0))"
      ],
      "execution_count": 30,
      "outputs": [
        {
          "output_type": "execute_result",
          "data": {
            "text/plain": [
              "([<matplotlib.patches.Wedge at 0x7f244c141e10>,\n",
              "  <matplotlib.patches.Wedge at 0x7f244c141ba8>,\n",
              "  <matplotlib.patches.Wedge at 0x7f244c239208>,\n",
              "  <matplotlib.patches.Wedge at 0x7f244c239710>],\n",
              " [Text(-1.2045105163371963, 1.7202192930068834, 'soma'),\n",
              "  Text(-1.7202192930068834, -1.2045105163371963, 'media'),\n",
              "  Text(0.6309340799861507, -0.901067248717891, 'minimo'),\n",
              "  Text(0.901067248717891, 0.6309340799861507, 'maximo')])"
            ]
          },
          "metadata": {
            "tags": []
          },
          "execution_count": 30
        },
        {
          "output_type": "display_data",
          "data": {
            "image/png": "[encoded data removed]",
            "text/plain": [
              "<Figure size 432x288 with 1 Axes>"
            ]
          },
          "metadata": {
            "tags": []
          }
        }
      ]
    },
    {
      "cell_type": "code",
      "metadata": {
        "trusted": true,
        "id": "zRdy55yTXbfN",
        "outputId": "c85da6ee-13d4-41d3-e427-4cb8707c5915",
        "colab": {
          "base_uri": "https://localhost:8080/",
          "height": 333
        }
      },
      "source": [
        "print(grande)\n",
        "grande_array = np.array(grande)\n",
        "ids = [l for l in range(len(grande_array))]\n",
        "print(grande_array.sum())\n",
        "print(grande_array.mean())\n",
        "print(grande_array.min())\n",
        "print(grande_array.max())\n",
        "plt.pie(grande_array)\n",
        "plt.savefig('plot.png' , dpi=100, bbox_inches='tight')\n",
        "plt.show()"
      ],
      "execution_count": 31,
      "outputs": [
        {
          "output_type": "stream",
          "text": [
            "[57, 59, 59, 62, 62]\n",
            "299\n",
            "59.8\n",
            "57\n",
            "62\n"
          ],
          "name": "stdout"
        },
        {
          "output_type": "display_data",
          "data": {
            "image/png": "[encoded data removed]",
            "text/plain": [
              "<Figure size 432x288 with 1 Axes>"
            ]
          },
          "metadata": {
            "tags": []
          }
        }
      ]
    },
    {
      "cell_type": "code",
      "metadata": {
        "trusted": true,
        "id": "PEq-ZfceXbfY",
        "outputId": "bb01b04f-fd30-4570-d372-9b03183051f6",
        "colab": {
          "base_uri": "https://localhost:8080/",
          "height": 393
        }
      },
      "source": [
        "fatias = [grande_array.sum(),grande_array.mean(),grande_array.min(),grande_array.max()]\n",
        "materias = ['soma','media','minimo','maximo']\n",
        "colunas = ['c','m','r','k']\n",
        "plt.pie(fatias,labels = materias, colors = colunas, startangle = 80, shadow = False, explode = (1,1,0,0))"
      ],
      "execution_count": 32,
      "outputs": [
        {
          "output_type": "execute_result",
          "data": {
            "text/plain": [
              "([<matplotlib.patches.Wedge at 0x7f244c2739b0>,\n",
              "  <matplotlib.patches.Wedge at 0x7f244c273ef0>,\n",
              "  <matplotlib.patches.Wedge at 0x7f244c119438>,\n",
              "  <matplotlib.patches.Wedge at 0x7f244c119978>],\n",
              " [Text(-2.0490946409775446, -0.45957714512049896, 'soma'),\n",
              "  Text(1.7772167274447126, -1.1187049225290404, 'media'),\n",
              "  Text(1.0767050889128242, 0.22518026447543624, 'minimo'),\n",
              "  Text(0.6048400982897116, 0.9187864036330164, 'maximo')])"
            ]
          },
          "metadata": {
            "tags": []
          },
          "execution_count": 32
        },
        {
          "output_type": "display_data",
          "data": {
            "image/png": "[encoded data removed]",
            "text/plain": [
              "<Figure size 432x288 with 1 Axes>"
            ]
          },
          "metadata": {
            "tags": []
          }
        }
      ]
    },
    {
      "cell_type": "code",
      "metadata": {
        "trusted": true,
        "id": "sJpaM22PXbff",
        "outputId": "3020d03f-7bca-4868-a536-386d4f92f78d",
        "colab": {
          "base_uri": "https://localhost:8080/",
          "height": 333
        }
      },
      "source": [
        "print(descartado)\n",
        "descartado_array = np.array(descartado)\n",
        "ids = [l for l in range(len(descartado_array))]\n",
        "print(descartado_array.sum())\n",
        "print(descartado_array.mean())\n",
        "print(descartado_array.min())\n",
        "print(descartado_array.max())\n",
        "plt.pie(descartado_array)\n",
        "plt.savefig('plot.png' , dpi=100, bbox_inches='tight')\n",
        "plt.show()"
      ],
      "execution_count": 33,
      "outputs": [
        {
          "output_type": "stream",
          "text": [
            "[72, 75, 77, 98, 12, 16, 90, 96, 2, 92, 92, 6, 71, 16, 96]\n",
            "911\n",
            "60.733333333333334\n",
            "2\n",
            "98\n"
          ],
          "name": "stdout"
        },
        {
          "output_type": "display_data",
          "data": {
            "image/png": "[encoded data removed]",
            "text/plain": [
              "<Figure size 432x288 with 1 Axes>"
            ]
          },
          "metadata": {
            "tags": []
          }
        }
      ]
    },
    {
      "cell_type": "code",
      "metadata": {
        "trusted": true,
        "id": "vrNoN9knXbfm",
        "outputId": "20a1f73b-80b5-4a30-ec4b-26a1c47b41c3",
        "colab": {
          "base_uri": "https://localhost:8080/",
          "height": 438
        }
      },
      "source": [
        "fatias = [descartado_array.sum(),descartado_array.mean(),descartado_array.min(),descartado_array.max()]\n",
        "materias = ['soma','media','minimo','maximo']\n",
        "colunas = ['c','m','r','k']\n",
        "plt.pie(fatias,labels = materias, colors = colunas, startangle = 80, shadow = False, explode = (1,1,0,0))"
      ],
      "execution_count": 34,
      "outputs": [
        {
          "output_type": "execute_result",
          "data": {
            "text/plain": [
              "([<matplotlib.patches.Wedge at 0x7f244c2e2a90>,\n",
              "  <matplotlib.patches.Wedge at 0x7f244c2e2fd0>,\n",
              "  <matplotlib.patches.Wedge at 0x7f244c2d8518>,\n",
              "  <matplotlib.patches.Wedge at 0x7f244c2d8a20>],\n",
              " [Text(-1.263680774631577, -1.6772331083741872, 'soma'),\n",
              "  Text(1.694416767669862, 1.2405449679230565, 'media'),\n",
              "  Text(0.753765115357761, 0.8011480205740393, 'minimo'),\n",
              "  Text(0.49011892985505373, 0.9847758296169423, 'maximo')])"
            ]
          },
          "metadata": {
            "tags": []
          },
          "execution_count": 34
        },
        {
          "output_type": "display_data",
          "data": {
            "image/png": "[encoded data removed]",
            "text/plain": [
              "<Figure size 432x288 with 1 Axes>"
            ]
          },
          "metadata": {
            "tags": []
          }
        }
      ]
    },
    {
      "cell_type": "code",
      "metadata": {
        "trusted": true,
        "id": "2lPGYgd8Xbft"
      },
      "source": [
        "os.remove (\"controle.db\") if os.path.exists(\"controle.db\") else None"
      ],
      "execution_count": null,
      "outputs": []
    },
    {
      "cell_type": "code",
      "metadata": {
        "trusted": true,
        "id": "719l5AglXbf4"
      },
      "source": [
        ""
      ],
      "execution_count": null,
      "outputs": []
    }
  ]
}