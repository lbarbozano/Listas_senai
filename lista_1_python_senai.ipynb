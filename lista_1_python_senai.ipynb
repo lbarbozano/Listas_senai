{
  "nbformat": 4,
  "nbformat_minor": 0,
  "metadata": {
    "colab": {
      "name": "lista 1 python senai",
      "provenance": []
    },
    "kernelspec": {
      "name": "python3",
      "display_name": "Python 3"
    }
  },
  "cells": [
    {
      "cell_type": "markdown",
      "metadata": {
        "id": "i9_DbxRQYGGL"
      },
      "source": [
        "#Faça um programa que leia 2 números e em seguida pergunte ao usuário qual operação ele deseja realizar. O resultado da operação deve ser acompanhado de uma frase que diga se o número é:\n",
        "\n",
        "· par ou ímpar;\n",
        "\n",
        "· positivo ou negativo;\n",
        "\n",
        "· inteiro ou decimal."
      ]
    },
    {
      "cell_type": "code",
      "metadata": {
        "id": "nr5O3nVvZDoN"
      },
      "source": [
        "num1=float(input(\"Digite o primeiro número \"))\n",
        "num2=float(input(\"Digite o segundo número \"))\n",
        "operacao=input(\"Digite sua operação +,-,*,/ \")\n",
        "\n",
        "if operacao == '+':\n",
        "    valor= num1+num2\n",
        "    \n",
        "elif operacao == '-':\n",
        "    valor= num1-num2\n",
        "    \n",
        "elif operacao == '*':\n",
        "    valor= num1*num2\n",
        "\n",
        "elif operacao == '/':\n",
        "    valor= num1/num2\n",
        "else:\n",
        "    print(\"operação não existe \")\n",
        "        \n",
        "print(\"Resultado %.2f %s %.2f = %.6f \" %(num1,operacao,num2,valor))\n",
        "\n",
        "if (valor % 2==0):\n",
        "    print(\"é par \")\n",
        "else:\n",
        "    print(\"é impar\")\n",
        "    \n",
        "if (valor ==0):\n",
        "    print(\"é zero e ele é neutro \")\n",
        "elif(valor >0):\n",
        "    print(\"é positivo \")\n",
        "else: \n",
        "    print(\"é negativo \")    \n",
        "\n",
        "    \n",
        "if (valor // 1 == valor):\n",
        "    print(\"é inteiro \")\n",
        "else:\n",
        "    print(\"é decimal \")"
      ],
      "execution_count": null,
      "outputs": []
    },
    {
      "cell_type": "markdown",
      "metadata": {
        "id": "jZcgRMhKYUkQ"
      },
      "source": [
        "#Desenvolva um gerador de tabuada, capaz de gerar a tabuada de qualquer número inteiro entre 1 a 10. O usuário deve informar de qual numero ele deseja ver a tabuada.."
      ]
    },
    {
      "cell_type": "code",
      "metadata": {
        "id": "3a4V3u4QYHd7"
      },
      "source": [
        "t=int(input(\"Escolha o número que deseja-se ver a tuabuada \"))\n",
        "\n",
        "if (t<11 and t>0):\n",
        "    for k in range(0,11):\n",
        "        print(t, \"*\", k, \"=\" ,t*k)\n",
        "    \n",
        "else:\n",
        "    print(\"Número não permitido \")"
      ],
      "execution_count": null,
      "outputs": []
    },
    {
      "cell_type": "markdown",
      "metadata": {
        "id": "q9vdEsMgYagr"
      },
      "source": [
        "# Faça um programa que calcule o fatorial de um número inteiro fornecido pelo usuário. Ex.: 5!=5.4.3.2.1=120."
      ]
    },
    {
      "cell_type": "code",
      "metadata": {
        "id": "-MTNeVywYfNI"
      },
      "source": [
        "numero = int(input(\"digite um numero inteiro: \"))\n",
        "f = 1\n",
        "n = numero\n",
        "\n",
        "print(\"fatorial de {}!=\".format(n), end='')\n",
        "print(\"%dx\" %numero, end='')\n",
        "\n",
        "while n > 1:\n",
        "    f = f * n\n",
        "    n = n - 1\n",
        "    print('{}'.format(n), end='')\n",
        "    \n",
        "    if n > 1:\n",
        "        print(\"x\", end='')\n",
        "    else:\n",
        "        print(\"=\", end='')\n",
        "        \n",
        "print (f)"
      ],
      "execution_count": null,
      "outputs": []
    },
    {
      "cell_type": "markdown",
      "metadata": {
        "id": "fyiru7pbYqZg"
      },
      "source": [
        "# Os números primos possuem várias aplicações dentro da Computação, por exemplo na Criptografia. Um número primo é aquele que é divisível apenas por um e por ele mesmo. Faça um programa que peça um número inteiro e determine se ele é ou não um número primo."
      ]
    },
    {
      "cell_type": "code",
      "metadata": {
        "id": "bFGqsvywYu_N"
      },
      "source": [
        "numero = int(input(\"Digite um numero \"))\n",
        "divisores = 0\n",
        "for divisor in range(1, numero):\n",
        "    if numero % divisor == 0:\n",
        "        divisores = divisores + 1\n",
        "        if divisores > 1:\n",
        "          break\n",
        "if divisores > 1:\n",
        "  print(\"não é primo \")\n",
        "else:\n",
        "  print(\"é primo \")"
      ],
      "execution_count": null,
      "outputs": []
    },
    {
      "cell_type": "markdown",
      "metadata": {
        "id": "DoDMskEZYx_n"
      },
      "source": [
        "# Faça um Programa que leia 20 números inteiros e armazene-os num vetor. Armazene os números pares no vetor PAR e os números IMPARES no vetor impar. Imprima os três vetores."
      ]
    },
    {
      "cell_type": "code",
      "metadata": {
        "id": "xuSSEZwSY2CO"
      },
      "source": [
        "numero=[]\n",
        "par = []\n",
        "impar = []\n",
        "\n",
        "for i in range (20):\n",
        "    \n",
        "    digito = int(input(\"Digite um número: \"))\n",
        "    \n",
        "    numero.append (digito)\n",
        "    \n",
        "    if (digito % 2) == 0:\n",
        "        par.append (digito)\n",
        "    else:\n",
        "        impar.append (digito)\n",
        "\n",
        "print (par)\n",
        "print (impar)"
      ],
      "execution_count": null,
      "outputs": []
    }
  ]
}