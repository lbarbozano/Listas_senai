{
  "nbformat": 4,
  "nbformat_minor": 0,
  "metadata": {
    "colab": {
      "name": "lista 2 banco de dados senai",
      "provenance": []
    },
    "kernelspec": {
      "name": "python3",
      "display_name": "Python 3"
    }
  },
  "cells": [
    {
      "cell_type": "markdown",
      "metadata": {
        "id": "GeJYGyMrSa_H"
      },
      "source": [
        "# Implemente um programa em python para cadastrar o nome do operador, uma senha e peça o login. Em seguida, criar um banco de dados chamado controle.db, que deve armazenar leituras de um sensor que mede altura de uma peça. As peças possuem três tamanhos, conforme descrição abaixo: \n",
        "\n",
        "- Pequena: de 25 cm a 40cm \n",
        "\n",
        "- Media: de 41 cm a 50cm \n",
        "\n",
        "- Grande: de 51 cm a 70 cm \n",
        "\n",
        "- Peças fora dessas medidas são descartáveis \n",
        "\n",
        " \n",
        "\n",
        " # O banco de dados deve armazenar informações de 30 peças, conforme tabela abaixo: \n",
        "\n",
        "- Id (primary key) \n",
        "\n",
        "- Horário \n",
        "\n",
        "- Tamanho \n",
        "\n",
        "- Operador \n",
        "\n",
        " \n",
        "#Depois de armazenar os dados, o programa em python deve mostrar ao operador a relação de peças pequenas, médias, grandes e descartáveis, baseada na tabela já salva. Utilize a função randômica para simular os valores das leituras dos sensores. \n",
        "\n",
        " \n",
        "\n",
        "#Em seguida, é necessário apresentar os valores de soma e média através de gráficos linhas, colunas e pizza para cada tamanho cadastrado. Os doze gráficos devem ser salvos como imagem. "
      ]
    },
    {
      "cell_type": "code",
      "metadata": {
        "id": "__Pc2bSFVKlu"
      },
      "source": [
        "import sqlite3\n",
        "import numpy as np\n",
        "import random\n",
        "import matplotlib.pyplot as plt\n",
        "import time\n",
        "import os\n",
        "import datetime\n",
        "\n",
        "nome = input(\"Digite seu nome: \")\n",
        "login = input(\"Login: \")\n",
        "senha = input(\"Senha: \")\n",
        "\n",
        "while login == senha:\n",
        "    print(\"Sua senha deve ser diferente do login: \")\n",
        "    senha = input(\"Senha: \")\n",
        "\n",
        "print(\"Cadastro aprovado \")"
      ],
      "execution_count": null,
      "outputs": []
    },
    {
      "cell_type": "code",
      "metadata": {
        "id": "0NgvUS7-Sykm"
      },
      "source": [
        "while(login == input(\"Digite o login cadastrado: \") and senha == input(\"Digite a senha cadastrado: \")):\n",
        "   \n",
        "    print(\"Seja muito bem vindo!!!! \")\n",
        "   \n",
        "    BD = sqlite3.connect(\"controle.db\")\n",
        "    cursor = BD.cursor()   \n",
        "    \n",
        "    cursor.execute('''create table if not exists leituras(\n",
        "                ID integer primary key autoincrement,\n",
        "                Horario integer (100),\n",
        "                Tamanho varchar (100),\n",
        "                Operador varchar (100))''')\n",
        "    \n",
        "    pecas = [] \n",
        "    \n",
        "    leandro_pequeno = []\n",
        "    pequeno = [] \n",
        "    \n",
        "    leandro_medio = []\n",
        "    medio = []\n",
        "   \n",
        "    leandro_grande = []\n",
        "    grande = []\n",
        "   \n",
        "    leandro_descartado = []\n",
        "    descartado = []   \n",
        "    \n",
        "    for x in range (30):\n",
        "        relogio = datetime.datetime.now()             \n",
        "        pecas.append(random.randrange(100))        \n",
        "   \n",
        "    for l in pecas:  \n",
        "        if l >= 25 and l <= 40:\n",
        "            pecas = 'Pequeno'\n",
        "            leandro_pequeno.append(pecas)\n",
        "            pequeno.append(l)\n",
        "           \n",
        "        elif l >= 41 and l <= 50:\n",
        "            pecas  = 'Medio'\n",
        "            leandro_medio.append(pecas)\n",
        "            medio.append(l)\n",
        "           \n",
        "        elif l >= 51 and l <= 70:\n",
        "            pecas = 'Grande'\n",
        "            leandro_grande.append(pecas)\n",
        "            grande.append(l)\n",
        "           \n",
        "        else:\n",
        "            pecas = 'Descartando'\n",
        "            leandro_descartado.append(pecas)\n",
        "            descartado.append(l)\n",
        "       \n",
        "      \n",
        "    cursor.execute(\"\"\" INSERT INTO leituras (Horario, Tamanho, Operador) VALUES (?, ?, ?) \"\"\", (relogio, pecas, login))\n",
        "    \n",
        "    BD.commit()\n",
        "    \n",
        "    \n",
        "       \n",
        "    print(pequeno)\n",
        "    print(medio)\n",
        "    print(grande)\n",
        "    print(descartado)      \n",
        "    \n",
        "    break"
      ],
      "execution_count": null,
      "outputs": []
    },
    {
      "cell_type": "code",
      "metadata": {
        "id": "ydbky5vgSy7M"
      },
      "source": [
        "print(pequeno)\n",
        "pequeno_array = np.array(pequeno)\n",
        "ids = [l for l in range(len(pequeno_array))]\n",
        "print(pequeno_array.sum())\n",
        "print(pequeno_array.mean())\n",
        "print(pequeno_array.min())\n",
        "print(pequeno_array.max())\n",
        "plt.plot(ids,pequeno_array)\n",
        "plt.savefig('plot.png' , dpi=100, bbox_inches='tight')\n",
        "plt.show()"
      ],
      "execution_count": null,
      "outputs": []
    },
    {
      "cell_type": "code",
      "metadata": {
        "id": "wjEvcLYWSzMH"
      },
      "source": [
        "print(\"soma: \", pequeno_array.sum())\n",
        "print(\"media: \", pequeno_array.mean())\n",
        "plt.xlabel('soma')\n",
        "plt.ylabel('media')\n",
        "x = [0,pequeno_array.sum()]\n",
        "y = [0,pequeno_array.mean()]\n",
        "plt.plot(x,y, label = 'linha de soma e media')\n",
        "plt.legend()\n",
        "plt.savefig('plot.png' , dpi=100, bbox_inches='tight')\n",
        "plt.show()"
      ],
      "execution_count": null,
      "outputs": []
    },
    {
      "cell_type": "code",
      "metadata": {
        "id": "Ifm0Cb00SzdE"
      },
      "source": [
        "print(medio)\n",
        "medio_array = np.array(medio)\n",
        "ids = [l for l in range(len(medio_array))]\n",
        "print(medio_array.sum())\n",
        "print(medio_array.mean())\n",
        "print(medio_array.min())\n",
        "print(medio_array.max())\n",
        "plt.plot(ids,medio_array)\n",
        "plt.savefig('plot.png' , dpi=100, bbox_inches='tight')\n",
        "plt.show()"
      ],
      "execution_count": null,
      "outputs": []
    },
    {
      "cell_type": "code",
      "metadata": {
        "id": "mwII4On5SzwT"
      },
      "source": [
        "print(\"soma: \", medio_array.sum())\n",
        "print(\"media: \", medio_array.mean())\n",
        "plt.xlabel('soma')\n",
        "plt.ylabel('media')\n",
        "x = [0,medio_array.sum()]\n",
        "y = [0,medio_array.mean()]\n",
        "plt.plot(x,y, label = 'linha de soma e media')\n",
        "plt.legend()\n",
        "plt.savefig('plot.png' , dpi=100, bbox_inches='tight')\n",
        "plt.show()"
      ],
      "execution_count": null,
      "outputs": []
    },
    {
      "cell_type": "code",
      "metadata": {
        "id": "hjNkHfEUS0A4"
      },
      "source": [
        "print(grande)\n",
        "grande_array = np.array(grande)\n",
        "ids = [l for l in range(len(grande_array))]\n",
        "print(grande_array.sum())\n",
        "print(grande_array.mean())\n",
        "print(grande_array.min())\n",
        "print(grande_array.max())\n",
        "plt.plot(ids,grande_array)\n",
        "plt.savefig('plot.png' , dpi=100, bbox_inches='tight')\n",
        "plt.show()"
      ],
      "execution_count": null,
      "outputs": []
    },
    {
      "cell_type": "code",
      "metadata": {
        "id": "ICF28uKWS0Sm"
      },
      "source": [
        "print(\"soma: \", grande_array.sum())\n",
        "print(\"media: \", grande_array.mean())\n",
        "plt.xlabel('soma')\n",
        "plt.ylabel('media')\n",
        "x = [0,grande_array.sum()]\n",
        "y = [0,grande_array.mean()]\n",
        "plt.plot(x,y, label = 'linha de soma e media')\n",
        "plt.legend()\n",
        "plt.savefig('plot.png' , dpi=100, bbox_inches='tight')\n",
        "plt.show()"
      ],
      "execution_count": null,
      "outputs": []
    },
    {
      "cell_type": "code",
      "metadata": {
        "id": "DVbif1paS0lq"
      },
      "source": [
        "print(descartado)\n",
        "descartado_array = np.array(descartado)\n",
        "ids = [l for l in range(len(descartado_array))]\n",
        "print(descartado_array.sum())\n",
        "print(descartado_array.mean())\n",
        "print(descartado_array.min())\n",
        "print(descartado_array.max())\n",
        "plt.plot(ids,descartado_array)\n",
        "plt.savefig('plot.png' , dpi=100, bbox_inches='tight')\n",
        "plt.show()"
      ],
      "execution_count": null,
      "outputs": []
    },
    {
      "cell_type": "code",
      "metadata": {
        "id": "RAOsJoHIS00o"
      },
      "source": [
        "print(\"soma: \", descartado_array.sum())\n",
        "print(\"media: \", descartado_array.mean())\n",
        "plt.xlabel('soma')\n",
        "plt.ylabel('media')\n",
        "x = [0,descartado_array.sum()]\n",
        "y = [0,descartado_array.mean()]\n",
        "plt.plot(x,y, label = 'linha de soma e media')\n",
        "plt.legend()\n",
        "plt.savefig('plot.png' , dpi=100, bbox_inches='tight')\n",
        "plt.show()"
      ],
      "execution_count": null,
      "outputs": []
    },
    {
      "cell_type": "code",
      "metadata": {
        "id": "T6JmDLjFS1H8"
      },
      "source": [
        "print(pequeno)\n",
        "pequeno_array = np.array(pequeno)\n",
        "ids = [l for l in range(len(pequeno_array))]\n",
        "print(pequeno_array.sum())\n",
        "print(pequeno_array.mean())\n",
        "print(pequeno_array.min())\n",
        "print(pequeno_array.max())\n",
        "plt.bar(ids,pequeno_array, label = 'barras1', color = 'red')\n",
        "plt.savefig('plot.png' , dpi=100, bbox_inches='tight')\n",
        "plt.show()"
      ],
      "execution_count": null,
      "outputs": []
    },
    {
      "cell_type": "code",
      "metadata": {
        "id": "BeSykNvJS1Z5"
      },
      "source": [
        "print(pequeno)\n",
        "pequeno_array.mean()\n",
        "pequeno_array.sum()\n",
        "pequeno_array.min()\n",
        "pequeno_array.max()\n",
        "print(pequeno_array.mean)\n",
        "print(pequeno_array.sum)\n",
        "print(pequeno_array.min)\n",
        "print(pequeno_array.max)\n",
        "x = pequeno_array.mean()\n",
        "y = pequeno_array.mean()\n",
        "l = pequeno_array.sum()\n",
        "r = pequeno_array.sum()\n",
        "m = pequeno_array.min()\n",
        "n = pequeno_array.min()\n",
        "a = pequeno_array.max()\n",
        "b = pequeno_array.max()\n",
        "plt.bar(x,y, label= 'barras1', color = 'black')\n",
        "plt.bar(l,r, label= 'barras2', color = 'blue')\n",
        "plt.bar(m,n, label= 'barras3', color = 'red')\n",
        "plt.bar(a,b, label= 'barras4', color = 'yellow')\n",
        "plt.savefig('plot.png', dpi =100, bbox_inches='tight')\n",
        "plt.show()"
      ],
      "execution_count": null,
      "outputs": []
    },
    {
      "cell_type": "code",
      "metadata": {
        "id": "puXszuHjS1t0"
      },
      "source": [
        "print(medio)\n",
        "medio_array = np.array(medio)\n",
        "ids = [l for l in range(len(medio_array))]\n",
        "print(medio_array.sum())\n",
        "print(medio_array.mean())\n",
        "print(medio_array.min())\n",
        "print(medio_array.max())\n",
        "plt.bar(ids,medio_array, label = 'barras2', color = 'green')\n",
        "plt.savefig('plot.png' , dpi=100, bbox_inches='tight')\n",
        "plt.show()"
      ],
      "execution_count": null,
      "outputs": []
    },
    {
      "cell_type": "code",
      "metadata": {
        "id": "n9Qdv0ShTobx"
      },
      "source": [
        "print(medio)\n",
        "medio_array.mean()\n",
        "medio_array.sum()\n",
        "medio_array.min()\n",
        "medio_array.max()\n",
        "print(medio_array.mean)\n",
        "print(medio_array.sum)\n",
        "print(medio_array.min)\n",
        "print(medio_array.max)\n",
        "x = medio_array.mean()\n",
        "y = medio_array.mean()\n",
        "l = medio_array.sum()\n",
        "r = medio_array.sum()\n",
        "m = medio_array.min()\n",
        "n = medio_array.min()\n",
        "a = medio_array.max()\n",
        "b = medio_array.max()\n",
        "plt.bar(x,y, label= 'barras1', color = 'black')\n",
        "plt.bar(l,r, label= 'barras2', color = 'blue')\n",
        "plt.bar(m,n, label= 'barras3', color = 'red')\n",
        "plt.bar(a,b, label= 'barras4', color = 'yellow')\n",
        "plt.savefig('plot.png', dpi =100, bbox_inches='tight')\n",
        "plt.show()"
      ],
      "execution_count": null,
      "outputs": []
    },
    {
      "cell_type": "code",
      "metadata": {
        "id": "Q-6sdQ9CTox8"
      },
      "source": [
        "print(grande)\n",
        "grande_array = np.array(grande)\n",
        "ids = [l for l in range(len(grande_array))]\n",
        "print(grande_array.sum())\n",
        "print(grande_array.mean())\n",
        "print(grande_array.min())\n",
        "print(grande_array.max())\n",
        "plt.bar(ids,grande_array, label = 'barras3', color = 'yellow')\n",
        "plt.savefig('plot.png' , dpi=100, bbox_inches='tight')\n",
        "plt.show()"
      ],
      "execution_count": null,
      "outputs": []
    },
    {
      "cell_type": "code",
      "metadata": {
        "id": "PCUMUmCKTpB4"
      },
      "source": [
        "print(grande)\n",
        "grande_array.mean()\n",
        "grande_array.sum()\n",
        "grande_array.min()\n",
        "grande_array.max()\n",
        "print(grande_array.mean)\n",
        "print(grande_array.sum)\n",
        "print(grande_array.min)\n",
        "print(grande_array.max)\n",
        "x = grande_array.mean()\n",
        "y = grande_array.mean()\n",
        "l = grande_array.sum()\n",
        "r = grande_array.sum()\n",
        "m = grande_array.min()\n",
        "n = grande_array.min()\n",
        "a = grande_array.max()\n",
        "b = grande_array.max()\n",
        "plt.bar(x,y, label= 'barras1', color = 'black')\n",
        "plt.bar(l,r, label= 'barras2', color = 'blue')\n",
        "plt.bar(m,n, label= 'barras3', color = 'red')\n",
        "plt.bar(a,b, label= 'barras4', color = 'yellow')\n",
        "plt.savefig('plot.png', dpi =100, bbox_inches='tight')\n",
        "plt.show()"
      ],
      "execution_count": null,
      "outputs": []
    },
    {
      "cell_type": "code",
      "metadata": {
        "id": "zfSo87wYTpZm"
      },
      "source": [
        "print(descartado)\n",
        "descartado_array = np.array(descartado)\n",
        "ids = [l for l in range(len(descartado_array))]\n",
        "print(descartado_array.sum())\n",
        "print(descartado_array.mean())\n",
        "print(descartado_array.min())\n",
        "print(descartado_array.max())\n",
        "plt.bar(ids,descartado_array, label = 'barras4', color = 'blue')\n",
        "plt.savefig('plot.png' , dpi=100, bbox_inches='tight')\n",
        "plt.show()"
      ],
      "execution_count": null,
      "outputs": []
    },
    {
      "cell_type": "code",
      "metadata": {
        "id": "CkRnh368TpO3"
      },
      "source": [
        "print(descartado)\n",
        "descartado_array.mean()\n",
        "descartado_array.sum()\n",
        "descartado_array.min()\n",
        "descartado_array.max()\n",
        "print(descartado_array.mean)\n",
        "print(descartado_array.sum)\n",
        "print(descartado_array.min)\n",
        "print(descartado_array.max)\n",
        "x = descartado_array.mean()\n",
        "y = descartado_array.mean()\n",
        "l = descartado_array.sum()\n",
        "r = descartado_array.sum()\n",
        "m = descartado_array.min()\n",
        "n = descartado_array.min()\n",
        "a = descartado_array.max()\n",
        "b = descartado_array.max()\n",
        "plt.bar(x,y, label= 'barras1', color = 'black')\n",
        "plt.bar(l,r, label= 'barras2', color = 'blue')\n",
        "plt.bar(m,n, label= 'barras3', color = 'red')\n",
        "plt.bar(a,b, label= 'barras4', color = 'yellow')\n",
        "plt.savefig('plot.png', dpi =100, bbox_inches='tight')\n",
        "plt.show()"
      ],
      "execution_count": null,
      "outputs": []
    },
    {
      "cell_type": "code",
      "metadata": {
        "id": "oIrpKWyBS2CK"
      },
      "source": [
        "print(pequeno)\n",
        "pequeno_array = np.array(pequeno)\n",
        "ids = [l for l in range(len(pequeno_array))]\n",
        "print(pequeno_array.sum())\n",
        "print(pequeno_array.mean())\n",
        "print(pequeno_array.min())\n",
        "print(pequeno_array.max())\n",
        "plt.scatter(ids,pequeno_array, label = 'pontos', color = 'red', marker = '*', s = 80)\n",
        "plt.legend()\n",
        "plt.savefig('plot.png' , dpi=100, bbox_inches='tight')\n",
        "plt.show()"
      ],
      "execution_count": null,
      "outputs": []
    },
    {
      "cell_type": "code",
      "metadata": {
        "id": "82dZUJuTT7hd"
      },
      "source": [
        "print(\"soma: \", pequeno_array.sum())\n",
        "print(\"media: \", pequeno_array.mean())\n",
        "plt.xlabel('soma')\n",
        "plt.ylabel('media')\n",
        "x = [pequeno_array.sum()]\n",
        "y = [pequeno_array.mean()]\n",
        "plt.scatter(x,y, label = 'pontos', color = 'red', marker = '*', s = 80)\n",
        "plt.legend()\n",
        "plt.savefig('plot.png' , dpi=100, bbox_inches='tight')\n",
        "plt.show()"
      ],
      "execution_count": null,
      "outputs": []
    },
    {
      "cell_type": "code",
      "metadata": {
        "id": "7Jo2NkhPT76y"
      },
      "source": [
        "print(medio)\n",
        "medio_array = np.array(medio)\n",
        "ids = [l for l in range(len(medio_array))]\n",
        "print(medio_array.sum())\n",
        "print(medio_array.mean())\n",
        "print(medio_array.min())\n",
        "print(medio_array.max())\n",
        "plt.scatter(ids,medio_array, label = 'pontos', color = 'blue', marker = '*', s = 80)\n",
        "plt.legend()\n",
        "plt.savefig('plot.png' , dpi=100, bbox_inches='tight')\n",
        "plt.show()"
      ],
      "execution_count": null,
      "outputs": []
    },
    {
      "cell_type": "code",
      "metadata": {
        "id": "ETfxLq5FT8Se"
      },
      "source": [
        "print(\"soma: \", medio_array.sum())\n",
        "print(\"media: \", medio_array.mean())\n",
        "plt.xlabel('soma')\n",
        "plt.ylabel('media')\n",
        "x = [medio_array.sum()]\n",
        "y = [medio_array.mean()]\n",
        "plt.scatter(x,y, label = 'pontos', color = 'red', marker = '*', s = 80)\n",
        "plt.legend()\n",
        "plt.savefig('plot.png' , dpi=100, bbox_inches='tight')\n",
        "plt.show()"
      ],
      "execution_count": null,
      "outputs": []
    },
    {
      "cell_type": "code",
      "metadata": {
        "id": "AkLyggBcUE06"
      },
      "source": [
        "print(grande)\n",
        "grande_array = np.array(grande)\n",
        "ids = [l for l in range(len(grande_array))]\n",
        "print(grande_array.sum())\n",
        "print(grande_array.mean())\n",
        "print(grande_array.min())\n",
        "print(grande_array.max())\n",
        "plt.scatter(ids,grande_array, label = 'pontos', color = 'pink', marker = '*', s = 80)\n",
        "plt.legend()\n",
        "plt.savefig('plot.png' , dpi=100, bbox_inches='tight')\n",
        "plt.show()"
      ],
      "execution_count": null,
      "outputs": []
    },
    {
      "cell_type": "code",
      "metadata": {
        "id": "4wpt2wkWUFQZ"
      },
      "source": [
        "print(\"soma: \", grande_array.sum())\n",
        "print(\"media: \", grande_array.mean())\n",
        "plt.xlabel('soma')\n",
        "plt.ylabel('media')\n",
        "x = [grande_array.sum()]\n",
        "y = [grande_array.mean()]\n",
        "plt.scatter(x,y, label = 'pontos', color = 'red', marker = '*', s = 80)\n",
        "plt.legend()\n",
        "plt.savefig('plot.png' , dpi=100, bbox_inches='tight')\n",
        "plt.show()"
      ],
      "execution_count": null,
      "outputs": []
    },
    {
      "cell_type": "code",
      "metadata": {
        "id": "VdOkDfPLUFmU"
      },
      "source": [
        "print(descartado)\n",
        "descartado_array = np.array(descartado)\n",
        "ids = [l for l in range(len(descartado_array))]\n",
        "print(descartado_array.sum())\n",
        "print(descartado_array.mean())\n",
        "print(descartado_array.min())\n",
        "print(descartado_array.max())\n",
        "plt.scatter(ids,descartado_array, label = 'pontos', color = 'black', marker = '*', s = 80)\n",
        "plt.legend()\n",
        "plt.savefig('plot.png' , dpi=100, bbox_inches='tight')\n",
        "plt.show()"
      ],
      "execution_count": null,
      "outputs": []
    },
    {
      "cell_type": "code",
      "metadata": {
        "id": "1AmkPvoSUGBb"
      },
      "source": [
        "print(\"soma: \", descartado_array.sum())\n",
        "print(\"media: \", descartado_array.mean())\n",
        "plt.xlabel('soma')\n",
        "plt.ylabel('media')\n",
        "x = [descartado_array.sum()]\n",
        "y = [descartado_array.mean()]\n",
        "plt.scatter(x,y, label = 'pontos', color = 'red', marker = '*', s = 80)\n",
        "plt.legend()\n",
        "plt.savefig('plot.png' , dpi=100, bbox_inches='tight')\n",
        "plt.show()"
      ],
      "execution_count": null,
      "outputs": []
    },
    {
      "cell_type": "code",
      "metadata": {
        "id": "vz0XHQE9UQeo"
      },
      "source": [
        "print(pequeno)\n",
        "pequeno_array = np.array(pequeno)\n",
        "ids = [l for l in range(len(pequeno_array))]\n",
        "print(pequeno_array.sum())\n",
        "print(pequeno_array.mean())\n",
        "print(pequeno_array.min())\n",
        "print(pequeno_array.max())\n",
        "plt.pie(pequeno_array)\n",
        "plt.savefig('plot.png' , dpi=100, bbox_inches='tight')\n",
        "plt.show()"
      ],
      "execution_count": null,
      "outputs": []
    },
    {
      "cell_type": "code",
      "metadata": {
        "id": "Qn-pW3b3UQ3n"
      },
      "source": [
        "fatias = [pequeno_array.sum(),pequeno_array.mean(),pequeno_array.min(),pequeno_array.max()]\n",
        "materias = ['soma','media','minimo','maximo']\n",
        "colunas = ['c','m','r','k']\n",
        "plt.pie(fatias,labels = materias, colors = colunas, startangle = 80, shadow = False, explode = (1,1,0,0))"
      ],
      "execution_count": null,
      "outputs": []
    },
    {
      "cell_type": "code",
      "metadata": {
        "id": "ejvULEjaUWli"
      },
      "source": [
        "print(medio)\n",
        "medio_array = np.array(medio)\n",
        "ids = [l for l in range(len(medio_array))]\n",
        "print(medio_array.sum())\n",
        "print(medio_array.mean())\n",
        "print(medio_array.min())\n",
        "print(medio_array.max())\n",
        "plt.pie(medio_array)\n",
        "plt.savefig('plot.png' , dpi=100, bbox_inches='tight')\n",
        "plt.show()"
      ],
      "execution_count": null,
      "outputs": []
    },
    {
      "cell_type": "code",
      "metadata": {
        "id": "nrz4F0RRUXDY"
      },
      "source": [
        "fatias = [medio_array.sum(),medio_array.mean(),medio_array.min(),medio_array.max()]\n",
        "materias = ['soma','media','minimo','maximo']\n",
        "colunas = ['c','m','r','k']\n",
        "plt.pie(fatias,labels = materias, colors = colunas, startangle = 80, shadow = False, explode = (1,1,0,0))"
      ],
      "execution_count": null,
      "outputs": []
    },
    {
      "cell_type": "code",
      "metadata": {
        "id": "Iv5UtwxdUXdS"
      },
      "source": [
        "print(grande)\n",
        "grande_array = np.array(grande)\n",
        "ids = [l for l in range(len(grande_array))]\n",
        "print(grande_array.sum())\n",
        "print(grande_array.mean())\n",
        "print(grande_array.min())\n",
        "print(grande_array.max())\n",
        "plt.pie(grande_array)\n",
        "plt.savefig('plot.png' , dpi=100, bbox_inches='tight')\n",
        "plt.show()"
      ],
      "execution_count": null,
      "outputs": []
    },
    {
      "cell_type": "code",
      "metadata": {
        "id": "l70ZwizoUX01"
      },
      "source": [
        "fatias = [grande_array.sum(),grande_array.mean(),grande_array.min(),grande_array.max()]\n",
        "materias = ['soma','media','minimo','maximo']\n",
        "colunas = ['c','m','r','k']\n",
        "plt.pie(fatias,labels = materias, colors = colunas, startangle = 80, shadow = False, explode = (1,1,0,0))"
      ],
      "execution_count": null,
      "outputs": []
    },
    {
      "cell_type": "code",
      "metadata": {
        "id": "A3Q-SEwjUYOE"
      },
      "source": [
        "print(descartado)\n",
        "descartado_array = np.array(descartado)\n",
        "ids = [l for l in range(len(descartado_array))]\n",
        "print(descartado_array.sum())\n",
        "print(descartado_array.mean())\n",
        "print(descartado_array.min())\n",
        "print(descartado_array.max())\n",
        "plt.pie(descartado_array)\n",
        "plt.savefig('plot.png' , dpi=100, bbox_inches='tight')\n",
        "plt.show()"
      ],
      "execution_count": null,
      "outputs": []
    },
    {
      "cell_type": "code",
      "metadata": {
        "id": "egIc7_0yUYrz"
      },
      "source": [
        "fatias = [descartado_array.sum(),descartado_array.mean(),descartado_array.min(),descartado_array.max()]\n",
        "materias = ['soma','media','minimo','maximo']\n",
        "colunas = ['c','m','r','k']\n",
        "plt.pie(fatias,labels = materias, colors = colunas, startangle = 80, shadow = False, explode = (1,1,0,0))"
      ],
      "execution_count": null,
      "outputs": []
    },
    {
      "cell_type": "code",
      "metadata": {
        "id": "t4bbPvvZUqYm"
      },
      "source": [
        "os.remove (\"controle.db\") if os.path.exists(\"controle.db\") else None"
      ],
      "execution_count": null,
      "outputs": []
    }
  ]
}