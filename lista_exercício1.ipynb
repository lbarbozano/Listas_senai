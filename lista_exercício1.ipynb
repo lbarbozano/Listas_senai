{
  "nbformat": 4,
  "nbformat_minor": 0,
  "metadata": {
    "kernelspec": {
      "name": "python36",
      "display_name": "Python 3.6",
      "language": "python"
    },
    "language_info": {
      "mimetype": "text/x-python",
      "nbconvert_exporter": "python",
      "name": "python",
      "pygments_lexer": "ipython3",
      "version": "3.6.6",
      "file_extension": ".py",
      "codemirror_mode": {
        "version": 3,
        "name": "ipython"
      }
    },
    "colab": {
      "name": "lista exercício1.ipynb",
      "provenance": [],
      "include_colab_link": true
    }
  },
  "cells": [
    {
      "cell_type": "markdown",
      "metadata": {
        "id": "view-in-github",
        "colab_type": "text"
      },
      "source": [
        "<a href=\"https://colab.research.google.com/github/lbarbozano/Listas_senai/blob/main/lista_exerc%C3%ADcio1.ipynb\" target=\"_parent\"><img src=\"https://colab.research.google.com/assets/colab-badge.svg\" alt=\"Open In Colab\"/></a>"
      ]
    },
    {
      "cell_type": "markdown",
      "metadata": {
        "collapsed": true,
        "id": "7a9cT0GlWEH2"
      },
      "source": [
        "1) Faça um programa que leia 2 números e em seguida pergunte ao usuário qual operação ele deseja realizar. O resultado da operação deve ser acompanhado de uma frase que diga se o número é:\n",
        "\n",
        "· par ou ímpar;\n",
        "\n",
        "· positivo ou negativo;\n",
        "\n",
        "· inteiro ou decimal."
      ]
    },
    {
      "cell_type": "code",
      "metadata": {
        "trusted": true,
        "id": "oHH1j3J1WEID",
        "outputId": "97e8f05a-a28d-4e9a-8876-e23aec29f71a",
        "colab": {
          "base_uri": "https://localhost:8080/",
          "height": 136
        }
      },
      "source": [
        "num1=float(input(\"Digite o primeiro número \"))\n",
        "num2=float(input(\"Digite o segundo número \"))\n",
        "operacao=input(\"Digite sua operação +,-,*,/ \")\n",
        "\n",
        "if operacao == '+':\n",
        "    valor= num1+num2\n",
        "    \n",
        "elif operacao == '-':\n",
        "    valor= num1-num2\n",
        "    \n",
        "elif operacao == '*':\n",
        "    valor= num1*num2\n",
        "\n",
        "elif operacao == '/':\n",
        "    valor= num1/num2\n",
        "else:\n",
        "    print(\"operação não existe \")\n",
        "        \n",
        "print(\"Resultado %.2f %s %.2f = %.6f \" %(num1,operacao,num2,valor))\n",
        "\n",
        "if (valor % 2==0):\n",
        "    print(\"é par \")\n",
        "else:\n",
        "    print(\"é impar\")\n",
        "    \n",
        "if (valor ==0):\n",
        "    print(\"é zero e ele é neutro \")\n",
        "elif(valor >0):\n",
        "    print(\"é positivo \")\n",
        "else: \n",
        "    print(\"é negativo \")    \n",
        "\n",
        "    \n",
        "if (valor // 1 == valor):\n",
        "    print(\"é inteiro \")\n",
        "else:\n",
        "    print(\"é decimal \")\n",
        "    "
      ],
      "execution_count": 2,
      "outputs": [
        {
          "output_type": "stream",
          "text": [
            "Digite o primeiro número 5\n",
            "Digite o segundo número 30\n",
            "Digite sua operação +,-,*,/ +\n",
            "Resultado 5.00 + 30.00 = 35.000000 \n",
            "é impar\n",
            "é positivo \n",
            "é inteiro \n"
          ],
          "name": "stdout"
        }
      ]
    },
    {
      "cell_type": "markdown",
      "metadata": {
        "id": "qLUFUDQrWEIb"
      },
      "source": [
        "2) Desenvolva um gerador de tabuada, capaz de gerar a tabuada de qualquer número inteiro entre 1 a 10. O usuário deve informar de qual numero ele deseja ver a tabuada.."
      ]
    },
    {
      "cell_type": "code",
      "metadata": {
        "trusted": true,
        "id": "C4QsfFwBWEIe",
        "outputId": "f46d6621-f275-42ce-9001-6f1a10ecde2d",
        "colab": {
          "base_uri": "https://localhost:8080/",
          "height": 221
        }
      },
      "source": [
        "t=int(input(\"Escolha o número que deseja-se ver a tuabuada \"))\n",
        "\n",
        "if (t<11 and t>0):\n",
        "    for k in range(0,11):\n",
        "        print(t, \"*\", k, \"=\" ,t*k)\n",
        "    \n",
        "else:\n",
        "    print(\"Número não permitido \")"
      ],
      "execution_count": 3,
      "outputs": [
        {
          "output_type": "stream",
          "text": [
            "Escolha o número que deseja-se ver a tuabuada 5\n",
            "5 * 0 = 0\n",
            "5 * 1 = 5\n",
            "5 * 2 = 10\n",
            "5 * 3 = 15\n",
            "5 * 4 = 20\n",
            "5 * 5 = 25\n",
            "5 * 6 = 30\n",
            "5 * 7 = 35\n",
            "5 * 8 = 40\n",
            "5 * 9 = 45\n",
            "5 * 10 = 50\n"
          ],
          "name": "stdout"
        }
      ]
    },
    {
      "cell_type": "markdown",
      "metadata": {
        "id": "HxnqH95vWEKA"
      },
      "source": [
        "3) Faça um programa que calcule o fatorial de um número inteiro fornecido pelo usuário. Ex.: 5!=5.4.3.2.1=120."
      ]
    },
    {
      "cell_type": "code",
      "metadata": {
        "trusted": true,
        "id": "DQh7AsjWWEKE",
        "outputId": "552061cb-aa9f-4a85-ce81-60e388f3c7f0",
        "colab": {
          "base_uri": "https://localhost:8080/",
          "height": 51
        }
      },
      "source": [
        "numero = int(input(\"digite um numero inteiro: \"))\n",
        "f = 1\n",
        "n = numero\n",
        "\n",
        "print(\"fatorial de {}!=\".format(n), end='')\n",
        "print(\"%dx\" %numero, end='')\n",
        "\n",
        "while n > 1:\n",
        "    f = f * n\n",
        "    n = n - 1\n",
        "    print('{}'.format(n), end='')\n",
        "    \n",
        "    if n > 1:\n",
        "        print(\"x\", end='')\n",
        "    else:\n",
        "        print(\"=\", end='')\n",
        "        \n",
        "print (f)"
      ],
      "execution_count": 5,
      "outputs": [
        {
          "output_type": "stream",
          "text": [
            "digite um numero inteiro: 5\n",
            "fatorial de 5!=5x4x3x2x1=120\n"
          ],
          "name": "stdout"
        }
      ]
    },
    {
      "cell_type": "markdown",
      "metadata": {
        "id": "fsliicgXWEKY"
      },
      "source": [
        "4) Os números primos possuem várias aplicações dentro da Computação, por exemplo na Criptografia. Um número primo é aquele que é divisível apenas por um e por ele mesmo. Faça um programa que peça um número inteiro e determine se ele é ou não um número primo"
      ]
    },
    {
      "cell_type": "code",
      "metadata": {
        "trusted": true,
        "id": "aeog8sj5WEKb",
        "outputId": "eff2adda-809c-4edd-c948-dc05a917c3a4",
        "colab": {
          "base_uri": "https://localhost:8080/",
          "height": 51
        }
      },
      "source": [
        "numero = int(input(\"Digite um numero \"))\n",
        "divisores = 0\n",
        "for divisor in range(1, numero):\n",
        "    if numero % divisor == 0:\n",
        "        divisores = divisores + 1\n",
        "        if divisores > 1:\n",
        "          break\n",
        "if divisores > 1:\n",
        "  print(\"não é primo \")\n",
        "else:\n",
        "  print(\"é primo \")"
      ],
      "execution_count": 6,
      "outputs": [
        {
          "output_type": "stream",
          "text": [
            "Digite um numero 45\n",
            "não é primo \n"
          ],
          "name": "stdout"
        }
      ]
    },
    {
      "cell_type": "markdown",
      "metadata": {
        "id": "6-LTXmxFWELx"
      },
      "source": [
        "5) Faça um Programa que leia 20 números inteiros e armazene-os num vetor. Armazene os números pares no vetor PAR e os números IMPARES no vetor impar. Imprima os três vetores."
      ]
    },
    {
      "cell_type": "code",
      "metadata": {
        "trusted": true,
        "id": "yFzqwNY6WEL1",
        "outputId": "7d46b9da-e1b1-4ebb-d4fd-7442871b933f",
        "colab": {
          "base_uri": "https://localhost:8080/",
          "height": 391
        }
      },
      "source": [
        "numero=[]\n",
        "par = []\n",
        "impar = []\n",
        "\n",
        "for i in range (20):\n",
        "    \n",
        "    digito = int(input(\"Digite um número: \"))\n",
        "    \n",
        "    numero.append (digito)\n",
        "    \n",
        "    if (digito % 2) == 0:\n",
        "        par.append (digito)\n",
        "    else:\n",
        "        impar.append (digito)\n",
        "\n",
        "print (par)\n",
        "print (impar)"
      ],
      "execution_count": 7,
      "outputs": [
        {
          "output_type": "stream",
          "text": [
            "Digite um número: 38\n",
            "Digite um número: 40\n",
            "Digite um número: 19\n",
            "Digite um número: 11\n",
            "Digite um número: 25\n",
            "Digite um número: 33\n",
            "Digite um número: 20\n",
            "Digite um número: 10\n",
            "Digite um número: 9\n",
            "Digite um número: 8\n",
            "Digite um número: 7\n",
            "Digite um número: 55\n",
            "Digite um número: 99\n",
            "Digite um número: 88\n",
            "Digite um número: 77\n",
            "Digite um número: 45\n",
            "Digite um número: 35\n",
            "Digite um número: 65\n",
            "Digite um número: 56\n",
            "Digite um número: 32\n",
            "[38, 40, 20, 10, 8, 88, 56, 32]\n",
            "[19, 11, 25, 33, 9, 7, 55, 99, 77, 45, 35, 65]\n"
          ],
          "name": "stdout"
        }
      ]
    }
  ]
}